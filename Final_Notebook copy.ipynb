{
 "cells": [
  {
   "cell_type": "code",
   "execution_count": 2,
   "source": [
    "import pandas as pd\n",
    "import numpy as np\n",
    "import seaborn as sns\n",
    "import matplotlib.pyplot as plt\n",
    "%matplotlib inline\n",
    "from sklearn.model_selection import train_test_split\n",
    "from sklearn.linear_model import LinearRegression\n",
    "from sklearn.preprocessing import scale\n",
    "from sklearn.preprocessing import OneHotEncoder\n",
    "from sklearn.pipeline import Pipeline\n",
    "from sklearn.preprocessing import StandardScaler\n",
    "from sklearn.compose import ColumnTransformer\n",
    "from sklearn.tree import DecisionTreeRegressor\n",
    "from sklearn.model_selection import GridSearchCV\n",
    "from sklearn.model_selection import cross_validate\n",
    "from sklearn.model_selection import cross_val_score"
   ],
   "outputs": [],
   "metadata": {}
  },
  {
   "cell_type": "code",
   "execution_count": 12,
   "source": [
    "#Load the dataset, take a look at the data info: \n",
    "df_1 = pd.read_csv('Data/DF_1_clean.csv')\n",
    "df_1.set_index('Date', inplace=True)\n",
    "df_2 = pd.read_csv('Data/DF_2_clean.csv')\n",
    "df_2.set_index('Date', inplace=True)\n",
    "df_3 = pd.read_csv('Data/DF_3_clean.csv')\n",
    "df_3.set_index('Date', inplace=True)"
   ],
   "outputs": [],
   "metadata": {}
  },
  {
   "cell_type": "markdown",
   "source": [
    "# Resort 1"
   ],
   "metadata": {}
  },
  {
   "cell_type": "markdown",
   "source": [
    "### First Simple Model\n",
    "Linear Regression with Cross Validation: "
   ],
   "metadata": {}
  },
  {
   "cell_type": "code",
   "execution_count": 17,
   "source": [
    "#Split into test and train X and Y\n",
    "X = df_1.drop(columns=['TOTAL_VISITS'])\n",
    "y = df_1['TOTAL_VISITS']\n",
    "X_train, X_test, y_train, y_test = train_test_split(X, y, test_size=0.2, random_state=42)"
   ],
   "outputs": [],
   "metadata": {}
  },
  {
   "cell_type": "code",
   "execution_count": 18,
   "source": [
    "y.head()"
   ],
   "outputs": [
    {
     "output_type": "execute_result",
     "data": {
      "text/plain": [
       "Date\n",
       "2017-12-21    432.0\n",
       "2017-12-22     48.0\n",
       "2017-12-23    266.0\n",
       "2017-12-24    283.0\n",
       "2017-12-25    281.0\n",
       "Name: TOTAL_VISITS, dtype: float64"
      ]
     },
     "metadata": {},
     "execution_count": 18
    }
   ],
   "metadata": {}
  },
  {
   "cell_type": "code",
   "execution_count": 9,
   "source": [
    "#visualization of target - Visits\n",
    "fig, ax = plt.subplots(figsize=(10, 5))\n",
    "ax.hist(y, bins=100);\n"
   ],
   "outputs": [
    {
     "output_type": "display_data",
     "data": {
      "text/plain": [
       "<Figure size 720x360 with 1 Axes>"
      ],
      "image/png": "[encoded data removed]"
     },
     "metadata": {
      "needs_background": "light"
     }
    }
   ],
   "metadata": {}
  },
  {
   "cell_type": "code",
   "execution_count": 52,
   "source": [
    "#Split into test and train X and Y\n",
    "# X = df_1.drop(columns=['TOTAL_VISITS'])\n",
    "# y = df_1['TOTAL_VISITS']\n",
    "# X_train, X_test, y_train, y_test = train_test_split(X, y, test_size=0.2, random_state=42)\n",
    "\n",
    "#column transformer - this sets up simmilar to pipeline (scaler and transformer)\n",
    "\n",
    "cat = ['is_school_out', 'is_holiday', 'day_of_week_num', 'month']\n",
    "non_cat = ['T - AWND', 'T - PRCP', 'T - SNOW', 'T - SNWD', 'T - TAVG', 'M_PRCP', 'M_SNWD', 'M_TAVG']\n",
    "\n",
    "\n",
    "Transformer = ColumnTransformer([\n",
    "\t('ohe', OneHotEncoder(), cat),\n",
    "\t('scaler', StandardScaler(), non_cat),\n",
    "\t], remainder ='passthrough')\n",
    "\n",
    "#setting up the pipe and training the model: \n",
    "\n",
    "LRPipe = Pipeline([('trans', Transformer),\n",
    "                ('linreg', LinearRegression())])\n",
    "\n",
    "LRPipe.fit(X_train, y_train)\n",
    "\n",
    "#cross validation and scoring\n",
    "cv = cross_validate(LRPipe, X_train, y_train, return_train_score=True, cv=3)\n",
    "cv_score = cross_val_score(LRPipe, X_train, y_train, cv = 3)\n",
    "\n",
    "print(f'Cross Validation Scores: {cv}')\n",
    "\n",
    "print(f'mean CV Score: {cv_score.mean()}')"
   ],
   "outputs": [
    {
     "output_type": "stream",
     "name": "stdout",
     "text": [
      "Cross Validation Scores: {'fit_time': array([0.03071475, 0.02022409, 0.01680207]), 'score_time': array([0.01969409, 0.01070786, 0.01736093]), 'test_score': array([0.5191252 , 0.62466792, 0.58351552]), 'train_score': array([0.68967982, 0.6480419 , 0.67978087])}\n",
      "mean CV Score: 0.5757695427323862\n"
     ]
    }
   ],
   "metadata": {}
  },
  {
   "cell_type": "markdown",
   "source": [
    "With Encoding and scaling, the Basic Linear Regression CV score is 0.576\n",
    "\n",
    "There is definitly some room for improvement! "
   ],
   "metadata": {}
  },
  {
   "cell_type": "markdown",
   "source": [
    "## Tree Regressor"
   ],
   "metadata": {}
  },
  {
   "cell_type": "code",
   "execution_count": 53,
   "source": [
    "#Split into test and train X and Y\n",
    "X = df_1.drop(columns=['TOTAL_VISITS'])\n",
    "y = df_1['TOTAL_VISITS']\n",
    "X_train, X_test, y_train, y_test = train_test_split(X, y, test_size=0.2, random_state=42)\n",
    "\n",
    "#column transformer - this sets up simmilar to pipeline (scaler and transformer)\n",
    "# cat = ['is_school_out', 'is_holiday', 'day_of_week_num', 'month']\n",
    "# non_cat = ['T - AWND', 'T - PRCP', 'T - SNOW', 'T - SNWD', 'T - TAVG', 'M_PRCP', 'M_SNWD', 'M_TAVG']\n",
    "\n",
    "Transformer = ColumnTransformer([\n",
    "\t('ohe', OneHotEncoder(), cat),\n",
    "\t# ('scaler', StandardScaler(), non_cat), #no need to scale on Trees\n",
    "\t], remainder ='passthrough')\n",
    "\n",
    "dtr = DecisionTreeRegressor(random_state=42)\n",
    "\n",
    "TreeRegPipe = Pipeline([('trans', Transformer),\n",
    "                        ('dtr', dtr)])\n",
    "\n",
    "dtr_param_grid = {\n",
    "\t'dtr__splitter': ['best', 'random'],\n",
    "    'dtr__min_samples_split': [4, 6, 8, 10],\n",
    "    'dtr__max_depth': [4, 5, 6, 7, 8]\n",
    "}\t\t\n",
    "\n",
    "#set up gridsearch:\n",
    "TreeGrid = GridSearchCV(estimator=TreeRegPipe,\n",
    "\t\t\t\t\t\t  param_grid=dtr_param_grid,\n",
    "\t\t\t\t\t\t  cv=3)\n",
    "\n",
    "TreeGrid.fit(X_train, y_train)\n",
    "\n",
    "#cross validation and scoring\n",
    "cv = cross_validate(TreeGrid, X_train, y_train, return_train_score=True, cv=3)\n",
    "cv_score = cross_val_score(TreeGrid, X_train, y_train, cv = 3)\n",
    "\n",
    "print(\"Best Parameter Combination for Tree Regressor Found During Grid Search:\")\n",
    "print(TreeGrid.best_params_)\n",
    "\n",
    "print(f'Tree Grid Cross Validation Scores: {cv}')\n",
    "\n",
    "print(f'Tree Grid mean CV Score: {cv_score.mean()}')"
   ],
   "outputs": [
    {
     "output_type": "stream",
     "name": "stdout",
     "text": [
      "Best Parameter Combination for Tree Regressor Found During Grid Search:\n",
      "{'dtr__max_depth': 7, 'dtr__min_samples_split': 4, 'dtr__splitter': 'random'}\n",
      "Tree Grid Cross Validation Scores: {'fit_time': array([1.44814777, 1.59295106, 1.34851599]), 'score_time': array([0.00744104, 0.00423503, 0.00344419]), 'test_score': array([0.20641746, 0.36846708, 0.25911523]), 'train_score': array([0.79057602, 0.60999337, 0.86411984])}\n",
      "Tree Grid mean CV Score: 0.27799992205368745\n"
     ]
    }
   ],
   "metadata": {}
  },
  {
   "cell_type": "markdown",
   "source": [
    "Tree Regressor did not perform well with the best score of .278 in comparison to linear regression with a score of .576"
   ],
   "metadata": {}
  },
  {
   "cell_type": "markdown",
   "source": [
    "## Random Forests "
   ],
   "metadata": {}
  },
  {
   "cell_type": "code",
   "execution_count": 54,
   "source": [
    "#pipeline_3:\n",
    "from sklearn.ensemble import RandomForestRegressor\n",
    "\n",
    "# #Split into test and train X and Y\n",
    "# X = df_3_preprocessed.drop(columns=['TOTAL_VISITS'])\n",
    "# y = df_3_preprocessed['TOTAL_VISITS']\n",
    "# X_train, X_test, y_train, y_test = train_test_split(X, y, test_size=0.20, random_state=42)\n",
    "\n",
    "#column transformer - this sets up simmilar to pipeline (scaler and transformer)\n",
    "\n",
    "# cat = ['is_school_out', 'is_holiday', 'day_of_week_num', 'month]\n",
    "# non_cat = ['T - AWND', 'T - PRCP', 'T - SNOW', 'T - SNWD', 'T - TAVG', 'M_PRCP', 'M_SNWD', 'M_TAVG']\n",
    "\n",
    "Transformer = ColumnTransformer([\n",
    "\t('ohe', OneHotEncoder(), cat),\n",
    "\t# ('scaler', StandardScaler(), non_cat), #no need to scale on Trees\n",
    "\t], remainder ='passthrough')\n",
    "\n",
    "#Pipeline second Step: treeregressor\n",
    "rfr = RandomForestRegressor(random_state = 42)\n",
    "\n",
    "#pipeline\n",
    "pipeline_3 = Pipeline([('transformer', Transformer),\n",
    "\t\t\t\t\t\t('dtr', rfr)])\n",
    "\n",
    "#set up grid search paramater grid\n",
    "rfr_param_grid = {\n",
    "    'dtr__n_estimators': [2, 4, 6, 8, 10, 12, 14, 16],\n",
    "    'dtr__max_depth': [None, 2, 3, 4, 5, 6, 8, 10],\n",
    "\t'dtr__max_features': ['auto', 'sqrt', 'log2'],\n",
    "\t'dtr__criterion': ['mse', 'mae']\n",
    "}\n",
    "\n",
    "#set up gridsearch:\n",
    "gridsearch2 = GridSearchCV(estimator=pipeline_3,\n",
    "\t\t\t\t\t\t  param_grid=rfr_param_grid,\n",
    "\t\t\t\t\t\t  cv=3)\n",
    "\n",
    "#fit gridsearch\n",
    "gridsearch2.fit(X_train, y_train)\n",
    "\n",
    "\n",
    "print(\"Best Parameter Combination Found During Grid Search:\")\n",
    "print(gridsearch2.best_params_)"
   ],
   "outputs": [
    {
     "output_type": "stream",
     "name": "stdout",
     "text": [
      "Best Parameter Combination Found During Grid Search:\n",
      "{'dtr__criterion': 'mse', 'dtr__max_depth': None, 'dtr__max_features': 'sqrt', 'dtr__n_estimators': 10}\n"
     ]
    }
   ],
   "metadata": {}
  },
  {
   "cell_type": "code",
   "execution_count": 55,
   "source": [
    "#pipeline_3:\n",
    "from sklearn.ensemble import RandomForestRegressor\n",
    "\n",
    "#Split into test and train X and Y\n",
    "X = df_1.drop(columns=['TOTAL_VISITS'])\n",
    "y = df_1['TOTAL_VISITS']\n",
    "X_train, X_test, y_train, y_test = train_test_split(X, y, test_size=0.20, random_state=42)\n",
    "\n",
    "#column transformer - this sets up simmilar to pipeline (scaler and transformer)\n",
    "\n",
    "# cat = ['is_school_out', 'is_holiday', 'day_of_week_num', 'month']\n",
    "# non_cat = ['T - AWND', 'T - PRCP', 'T - SNOW', 'T - SNWD', 'T - TAVG', 'M_PRCP', 'M_SNWD', 'M_TAVG']\n",
    "\n",
    "Transformer = ColumnTransformer([\n",
    "\t('ohe', OneHotEncoder(), cat),\n",
    "\t# ('scaler', StandardScaler(), non_cat), #no need to scale on Trees\n",
    "\t], remainder ='passthrough')\n",
    "\n",
    "#Pipeline second Step: treeregressor\n",
    "rfr = RandomForestRegressor(criterion = 'mse', max_depth = None, max_features = 'sqrt', n_estimators = 10, random_state = 42)\n",
    "\n",
    "#pipeline\n",
    "pipeline_3 = Pipeline([('transformer', Transformer),\n",
    "\t\t\t\t\t\t('dtr', rfr)])\n",
    "\n",
    "\n",
    "pipeline_3.fit(X_train, y_train)\n",
    "\n",
    "cv = cross_validate(pipeline_3, X_train, y_train, return_train_score=True, cv=5)\n",
    "cv_score = cross_val_score(pipeline_3, X_train, y_train, cv = 5)\n",
    "print(f'Cross Validation Scores best Random Forest Regressor: {cv}')\n",
    "\n",
    "print(f'mean CV Score: {cv_score.mean()}')"
   ],
   "outputs": [
    {
     "output_type": "stream",
     "name": "stdout",
     "text": [
      "Cross Validation Scores best Random Forest Regressor: {'fit_time': array([0.03267002, 0.03446102, 0.02223897, 0.022439  , 0.02221012]), 'score_time': array([0.00845098, 0.0072639 , 0.00570393, 0.0049789 , 0.00470185]), 'test_score': array([0.55986679, 0.67336618, 0.74058046, 0.6732444 , 0.54516542]), 'train_score': array([0.92655425, 0.91821211, 0.9111    , 0.90889369, 0.91310719])}\n",
      "mean CV Score: 0.6384446490641958\n"
     ]
    }
   ],
   "metadata": {}
  },
  {
   "cell_type": "markdown",
   "source": [
    "For Resort 1, forests are performing better than trees with a CV score of .638!"
   ],
   "metadata": {}
  },
  {
   "cell_type": "markdown",
   "source": [
    "## Gradient Boosting: "
   ],
   "metadata": {}
  },
  {
   "cell_type": "code",
   "execution_count": 56,
   "source": [
    "from sklearn.ensemble import GradientBoostingRegressor\n",
    "\n",
    "#pipeline_4:\n",
    "\n",
    "#Split into test and train X and Y\n",
    "# X = df_1.drop(columns=['TOTAL_VISITS'])\n",
    "# y = df_1['TOTAL_VISITS']\n",
    "# X_train, X_test, y_train, y_test = train_test_split(X, y, test_size=0.20, random_state=42)\n",
    "\n",
    "#column transformer - this sets up simmilar to pipeline (scaler and transformer)\n",
    "\n",
    "# cat = ['is_school_out', 'is_holiday', 'day_of_week_num']\n",
    "# non_cat = ['T - AWND', 'T - PRCP', 'T - SNOW', 'T - SNWD', 'T - TAVG', 'M_PRCP', 'M_SNWD', 'M_TAVG']\n",
    "\n",
    "Transformer = ColumnTransformer([\n",
    "\t('ohe', OneHotEncoder(), cat),\n",
    "\t# ('scaler', StandardScaler(), non_cat), #no need to scale on Trees\n",
    "\t], remainder ='passthrough')\n",
    "\n",
    "#Pipeline second Step: treeregressor\n",
    "GBR = GradientBoostingRegressor(random_state = 42)\n",
    "\n",
    "#pipeline\n",
    "pipeline_4 = Pipeline([('transformer', Transformer),\n",
    "\t\t\t\t\t\t('gbr', GBR)])\n",
    "\n",
    "#set up grid search paramater grid\n",
    "gbr_param_grid = {\n",
    "    'gbr__n_estimators': [50, 100, 200, 300],\n",
    "    'gbr__criterion': ['friedman_mse', 'mse', 'mae'],\n",
    "\t'gbr__min_samples_split': [2, 3, 4, 5]\n",
    "}\n",
    "\n",
    "#set up gridsearch:\n",
    "gridsearch3 = GridSearchCV(estimator=pipeline_4,\n",
    "\t\t\t\t\t\t  param_grid=gbr_param_grid,\n",
    "\t\t\t\t\t\t  cv=5)\n",
    "\n",
    "\n",
    "#fit gridsearch\n",
    "gridsearch3.fit(X_train, y_train)\n",
    "\n",
    "print(\"Best Parameter Combination Found During Gradient Boosting Grid Search:\")\n",
    "print(gridsearch3.best_params_)\n"
   ],
   "outputs": [
    {
     "output_type": "stream",
     "name": "stdout",
     "text": [
      "Best Parameter Combination Found During Gradient Boosting Grid Search:\n",
      "{'gbr__criterion': 'mse', 'gbr__min_samples_split': 5, 'gbr__n_estimators': 200}\n"
     ]
    }
   ],
   "metadata": {}
  },
  {
   "cell_type": "code",
   "execution_count": 60,
   "source": [
    "#Using best params on a gradient booster regressor then scoring thorugh cross val: \n",
    "\n",
    "#column transformer - this sets up simmilar to pipeline (scaler and transformer)\n",
    "\n",
    "# cat = ['is_school_out', 'is_holiday', 'day_of_week_num', 'month']\n",
    "# non_cat = ['T - AWND', 'T - PRCP', 'T - SNOW', 'T - SNWD', 'T - TAVG', 'M_PRCP', 'M_SNWD', 'M_TAVG']\n",
    "\n",
    "Transformer = ColumnTransformer([\n",
    "\t('ohe', OneHotEncoder(), cat),\n",
    "\t# ('scaler', StandardScaler(), non_cat), #no need to scale on Trees\n",
    "\t], remainder ='passthrough')\n",
    "\n",
    "#Pipeline second Step: treeregressor\n",
    "# GBR = GradientBoostingRegressor(criterion='mse', n_estimators=200, random_state = 42)\n",
    "GBR = GradientBoostingRegressor(criterion='mse', n_estimators=200, min_samples_split= 5, random_state = 42)\n",
    "\n",
    "#pipeline\n",
    "pipeline_gbr = Pipeline([('transformer', Transformer),\n",
    "\t\t\t\t\t\t('gbr', GBR)])\n",
    "\n",
    "pipeline_gbr.fit(X_train, y_train)\n",
    "\n",
    "\n",
    "cv = cross_validate(pipeline_gbr, X_train, y_train, return_train_score=True, cv=5)\n",
    "cv_score = cross_val_score(pipeline_gbr, X_train, y_train, cv = 5)\n",
    "print(f'Cross Validation Score Gradient Boosting Model: {cv}')\n",
    "\n",
    "print(f'mean CV Score: {cv_score.mean()}')"
   ],
   "outputs": [
    {
     "output_type": "stream",
     "name": "stdout",
     "text": [
      "Cross Validation Score Gradient Boosting Model: {'fit_time': array([0.15578222, 0.23252821, 0.2434392 , 0.20862627, 0.135427  ]), 'score_time': array([0.00411487, 0.01205611, 0.0044539 , 0.00767064, 0.00711298]), 'test_score': array([0.62728481, 0.68505887, 0.6747616 , 0.7939104 , 0.6750317 ]), 'train_score': array([0.96385551, 0.96685321, 0.96533828, 0.95868339, 0.96596248])}\n",
      "mean CV Score: 0.6912094773793598\n"
     ]
    }
   ],
   "metadata": {}
  },
  {
   "cell_type": "markdown",
   "source": [
    "### Gradient Booster Regressor is doing the best: \n",
    "\n",
    "And more improvement! We got our average model CV score up to .691"
   ],
   "metadata": {}
  },
  {
   "cell_type": "code",
   "execution_count": 61,
   "source": [
    "import xgboost as xg\n",
    "\n",
    "from sklearn.ensemble import GradientBoostingRegressor\n",
    "\n",
    "#x_boost Pipe:\n",
    "\n",
    "# X = df_1.drop(columns=['TOTAL_VISITS'])\n",
    "# y = df_1['TOTAL_VISITS']\n",
    "# X_train, X_test, y_train, y_test = train_test_split(X, y, test_size=0.2, random_state=42)\n",
    "\n",
    "# Pipeline first step: Transformer\n",
    "\n",
    "# cat = ['is_school_out', 'is_holiday', 'day_of_week_num', 'month']\n",
    "# non_cat = ['T - AWND', 'T - PRCP', 'T - SNOW', 'T - SNWD', 'T - TAVG', 'M_PRCP', 'M_SNWD', 'M_TAVG']\n",
    "\n",
    "Transformer = ColumnTransformer([\n",
    "\t('ohe', OneHotEncoder(), cat),\n",
    "\t('scaler', StandardScaler(), non_cat),\n",
    "\t], remainder ='passthrough')\n",
    "\n",
    "#Pipeline second Step: treeregressor\n",
    "xgb_r = xg.XGBRegressor(seed = 123)\n",
    "\n",
    "#pipeline\n",
    "xboostPipe = Pipeline([('transformer', Transformer),\n",
    "\t\t\t\t\t\t('xgb_r', xgb_r)])\n",
    "\n",
    "# objective ='reg:squarederror', n_estimators = 10, \n",
    "boost_param_grid = {\n",
    "    'xgb_r__eta': [.2, .3, .4, .5, .6, .7, .8],\n",
    "\t'xgb_r__max_depth': [3, 4, 5, 6, 7, 8, 9, 10]\n",
    "}\n",
    "\n",
    "gridsearch_boost = GridSearchCV(estimator=xboostPipe,\n",
    "\t\t\t\t\t\t  param_grid=boost_param_grid,\n",
    "\t\t\t\t\t\t  cv=5)\n",
    "\n",
    "#fit gridsearch\n",
    "gridsearch_boost.fit(X_train, y_train)\n",
    "\n",
    "print(\"Best Parameter Combination Found During Grid Search:\")\n",
    "print(gridsearch_boost.best_params_)"
   ],
   "outputs": [
    {
     "output_type": "stream",
     "name": "stdout",
     "text": [
      "Best Parameter Combination Found During Grid Search:\n",
      "{'xgb_r__eta': 0.2, 'xgb_r__max_depth': 3}\n"
     ]
    }
   ],
   "metadata": {}
  },
  {
   "cell_type": "code",
   "execution_count": 62,
   "source": [
    "#x_boost Pipe with ideal paramaters:\n",
    "\n",
    "# X = df_1.drop(columns=['TOTAL_VISITS'])\n",
    "# y = df_1['TOTAL_VISITS']\n",
    "# X_train, X_test, y_train, y_test = train_test_split(X, y, test_size=0.2, random_state=42)\n",
    "\n",
    "# Pipeline first step: Transformer\n",
    "# cat = ['is_school_out', 'is_holiday', 'day_of_week_num', 'month']\n",
    "# non_cat = ['T - AWND', 'T - PRCP', 'T - SNOW', 'T - SNWD', 'T - TAVG', 'M_PRCP', 'M_SNWD', 'M_TAVG']\n",
    "\n",
    "Transformer = ColumnTransformer([\n",
    "\t('ohe', OneHotEncoder(), cat),\n",
    "\t('scaler', StandardScaler(), non_cat),\n",
    "\t], remainder ='passthrough')\n",
    "\n",
    "#Pipeline second Step: \n",
    "xgb_r_2 = xg.XGBRegressor(eta = 0.2, max_depth = 3, seed = 123)\n",
    "\n",
    "xboostPipe_2 = Pipeline([('transformer', Transformer),\n",
    "\t\t\t\t\t\t('xgb_r_2', xgb_r_2)])\n",
    "\n",
    "xboostPipe_2.fit(X_train, y_train)\n",
    "\n",
    "cv = cross_validate(xboostPipe_2, X_train, y_train, return_train_score=True, cv=5)\n",
    "cv_score = cross_val_score(xboostPipe_2, X_train, y_train, cv = 5)\n",
    "print(f'Cross Validation Scores: {cv}')\n",
    "\n",
    "print(f'mean CV Score: {cv_score.mean()}')"
   ],
   "outputs": [
    {
     "output_type": "stream",
     "name": "stdout",
     "text": [
      "Cross Validation Scores: {'fit_time': array([0.05852914, 0.06314206, 0.0524509 , 0.06174397, 0.04611087]), 'score_time': array([0.00832796, 0.00838494, 0.00914121, 0.00887918, 0.00872517]), 'test_score': array([0.63686313, 0.70759651, 0.71270877, 0.7883116 , 0.6599786 ]), 'train_score': array([0.95631625, 0.96415222, 0.96199409, 0.95670808, 0.96122295])}\n",
      "mean CV Score: 0.701091719734643\n"
     ]
    }
   ],
   "metadata": {}
  },
  {
   "cell_type": "markdown",
   "source": [
    "X boost for resort 1 is preforming slightly better than Gradient Booster Regressor at CV score of .701"
   ],
   "metadata": {}
  },
  {
   "cell_type": "markdown",
   "source": [
    "## Evaluation\n",
    "\n",
    "**XBoost** "
   ],
   "metadata": {}
  },
  {
   "cell_type": "code",
   "execution_count": 63,
   "source": [
    "#GBR Test Score\n",
    "xboostPipe_2.score(X_test, y_test)"
   ],
   "outputs": [
    {
     "output_type": "execute_result",
     "data": {
      "text/plain": [
       "0.7818851261431787"
      ]
     },
     "metadata": {},
     "execution_count": 63
    }
   ],
   "metadata": {}
  },
  {
   "cell_type": "markdown",
   "source": [
    "XBoost gets a test CV score of .782, this means we can account for 78% of the variance in the Resort 1 data with our Gradient Booster Regressor model. "
   ],
   "metadata": {}
  },
  {
   "cell_type": "code",
   "execution_count": 65,
   "source": [
    "y_pred_xboost = xboostPipe_2.predict(X_test)\n",
    "\n",
    "df = pd.DataFrame({'Real Visits Resort 1':y_test, 'Predicted XBoost Visits':y_pred_xboost, \n",
    "                    'Difference': abs(y_test - y_pred_xboost)})\n",
    "df.head()\n"
   ],
   "outputs": [
    {
     "output_type": "execute_result",
     "data": {
      "text/plain": [
       "            Real Visits Resort 1  Predicted XBoost Visits  Difference\n",
       "Date                                                                 \n",
       "2021-02-07                4612.0              4164.014648  447.985352\n",
       "2021-04-04                 887.0              1871.096924  984.096924\n",
       "2019-02-20                2769.0              3016.289795  247.289795\n",
       "2021-03-07                4072.0              3139.466309  932.533691\n",
       "2020-01-27                1393.0              2205.445312  812.445312"
      ],
      "text/html": [
       "<div>\n",
       "<style scoped>\n",
       "    .dataframe tbody tr th:only-of-type {\n",
       "        vertical-align: middle;\n",
       "    }\n",
       "\n",
       "    .dataframe tbody tr th {\n",
       "        vertical-align: top;\n",
       "    }\n",
       "\n",
       "    .dataframe thead th {\n",
       "        text-align: right;\n",
       "    }\n",
       "</style>\n",
       "<table border=\"1\" class=\"dataframe\">\n",
       "  <thead>\n",
       "    <tr style=\"text-align: right;\">\n",
       "      <th></th>\n",
       "      <th>Real Visits Resort 1</th>\n",
       "      <th>Predicted XBoost Visits</th>\n",
       "      <th>Difference</th>\n",
       "    </tr>\n",
       "    <tr>\n",
       "      <th>Date</th>\n",
       "      <th></th>\n",
       "      <th></th>\n",
       "      <th></th>\n",
       "    </tr>\n",
       "  </thead>\n",
       "  <tbody>\n",
       "    <tr>\n",
       "      <th>2021-02-07</th>\n",
       "      <td>4612.0</td>\n",
       "      <td>4164.014648</td>\n",
       "      <td>447.985352</td>\n",
       "    </tr>\n",
       "    <tr>\n",
       "      <th>2021-04-04</th>\n",
       "      <td>887.0</td>\n",
       "      <td>1871.096924</td>\n",
       "      <td>984.096924</td>\n",
       "    </tr>\n",
       "    <tr>\n",
       "      <th>2019-02-20</th>\n",
       "      <td>2769.0</td>\n",
       "      <td>3016.289795</td>\n",
       "      <td>247.289795</td>\n",
       "    </tr>\n",
       "    <tr>\n",
       "      <th>2021-03-07</th>\n",
       "      <td>4072.0</td>\n",
       "      <td>3139.466309</td>\n",
       "      <td>932.533691</td>\n",
       "    </tr>\n",
       "    <tr>\n",
       "      <th>2020-01-27</th>\n",
       "      <td>1393.0</td>\n",
       "      <td>2205.445312</td>\n",
       "      <td>812.445312</td>\n",
       "    </tr>\n",
       "  </tbody>\n",
       "</table>\n",
       "</div>"
      ]
     },
     "metadata": {},
     "execution_count": 65
    }
   ],
   "metadata": {}
  },
  {
   "cell_type": "code",
   "execution_count": 66,
   "source": [
    "df['Difference'].mean()"
   ],
   "outputs": [
    {
     "output_type": "execute_result",
     "data": {
      "text/plain": [
       "682.2084655761719"
      ]
     },
     "metadata": {},
     "execution_count": 66
    }
   ],
   "metadata": {}
  },
  {
   "cell_type": "code",
   "execution_count": 69,
   "source": [
    "ohe = xboostPipe_2.named_steps[\"transformer\"].transformers_[0][1].get_feature_names()\n",
    "numbers = non_cat\n",
    "\n",
    "columns = [*ohe, *numbers]\n",
    "\n",
    "for name, importance in zip(columns, xboostPipe_2['xgb_r_2'].feature_importances_):\n",
    "    print(name, importance)\n"
   ],
   "outputs": [
    {
     "output_type": "stream",
     "name": "stdout",
     "text": [
      "x0_0 0.10317365\n",
      "x0_1 0.0\n",
      "x1_0 0.023376193\n",
      "x1_1 0.0\n",
      "x2_0 0.020765841\n",
      "x2_1 0.057336442\n",
      "x2_2 0.0019764253\n",
      "x2_3 0.0025452178\n",
      "x2_4 0.0350706\n",
      "x2_5 0.13947353\n",
      "x2_6 0.1654163\n",
      "x3_1 0.0370424\n",
      "x3_2 0.037307676\n",
      "x3_3 0.045449104\n",
      "x3_4 0.040754948\n",
      "x3_11 0.08848914\n",
      "x3_12 0.012864601\n",
      "T - AWND 0.010084906\n",
      "T - PRCP 0.0097507825\n",
      "T - SNOW 0.01947744\n",
      "T - SNWD 0.014582939\n",
      "T - TAVG 0.059271418\n",
      "M_PRCP 0.0070099\n",
      "M_SNWD 0.050687484\n",
      "M_TAVG 0.018093089\n"
     ]
    }
   ],
   "metadata": {}
  },
  {
   "cell_type": "code",
   "execution_count": 75,
   "source": [
    "from sklearn.inspection import permutation_importance\n",
    "\n",
    "feature_importance = xboostPipe_2['xgb_r_2'].feature_importances_\n",
    "sorted_idx = np.argsort(feature_importance)\n",
    "pos = np.arange(sorted_idx.shape[0])\n",
    "fig = plt.figure(figsize=(10, 5))\n",
    "plt.subplot(1, 2, 1)\n",
    "plt.barh(pos, feature_importance[sorted_idx], align=\"center\")\n",
    "plt.yticks(pos, np.array(columns)[sorted_idx])\n",
    "plt.title(\"Feature Importance\")\n",
    "\n",
    "result = permutation_importance(\n",
    "    xboostPipe_2, X_test, y_test, n_repeats=19, random_state=42, n_jobs=2\n",
    ")\n",
    "result\n",
    "sorted_idx = result.importances_mean.argsort()\n",
    "plt.subplot(1, 2, 2)\n",
    "plt.boxplot(\n",
    "    result.importances[sorted_idx].T,\n",
    "    vert=False,\n",
    "    labels=np.array(columns)[sorted_idx],\n",
    ")\n",
    "plt.title(\"Permutation Importance (test set)\")\n",
    "fig.tight_layout()\n",
    "plt.show()"
   ],
   "outputs": [
    {
     "output_type": "display_data",
     "data": {
      "text/plain": [
       "<Figure size 720x360 with 2 Axes>"
      ],
      "image/png": "[encoded data removed]"
     },
     "metadata": {
      "needs_background": "light"
     }
    }
   ],
   "metadata": {}
  },
  {
   "cell_type": "markdown",
   "source": [
    "# Resort 2 Modeling"
   ],
   "metadata": {}
  },
  {
   "cell_type": "markdown",
   "source": [],
   "metadata": {}
  }
 ],
 "metadata": {
  "interpreter": {
   "hash": "c15d3b161d9e31d3c14101c293414707f40e59d6cae0bbd6b708ca3d1e942f6f"
  },
  "kernelspec": {
   "display_name": "Python 3",
   "language": "python",
   "name": "python3"
  },
  "language_info": {
   "codemirror_mode": {
    "name": "ipython",
    "version": 3
   },
   "file_extension": ".py",
   "mimetype": "text/x-python",
   "name": "python",
   "nbconvert_exporter": "python",
   "pygments_lexer": "ipython3",
   "version": "3.8.5"
  }
 },
 "nbformat": 4,
 "nbformat_minor": 4
}