{
 "cells": [
  {
   "cell_type": "code",
   "execution_count": 2,
   "metadata": {},
   "outputs": [],
   "source": [
    "import pandas as pd\n",
    "import numpy as np\n",
    "import seaborn as sns\n",
    "import matplotlib.pyplot as plt\n",
    "%matplotlib inline\n",
    "from sklearn.model_selection import train_test_split\n",
    "from sklearn.linear_model import LinearRegression\n",
    "from sklearn.preprocessing import scale\n",
    "from sklearn.preprocessing import OneHotEncoder\n",
    "from sklearn.pipeline import Pipeline\n",
    "from sklearn.preprocessing import StandardScaler\n",
    "from sklearn.compose import ColumnTransformer\n",
    "from sklearn.tree import DecisionTreeRegressor\n",
    "from sklearn.model_selection import GridSearchCV\n",
    "from sklearn.model_selection import cross_validate\n",
    "from sklearn.model_selection import cross_val_score"
   ]
  },
  {
   "cell_type": "code",
   "execution_count": 12,
   "metadata": {},
   "outputs": [],
   "source": [
    "#Load the dataset, take a look at the data info: \n",
    "df_1 = pd.read_csv('Data/DF_1_clean.csv')\n",
    "df_1.set_index('Date', inplace=True)\n",
    "df_2 = pd.read_csv('Data/DF_2_clean.csv')\n",
    "df_2.set_index('Date', inplace=True)\n",
    "df_3 = pd.read_csv('Data/DF_3_clean.csv')\n",
    "df_3.set_index('Date', inplace=True)"
   ]
  },
  {
   "cell_type": "markdown",
   "metadata": {},
   "source": [
    "# Resort 1"
   ]
  },
  {
   "cell_type": "markdown",
   "metadata": {},
   "source": [
    "### First Simple Model\n",
    "Linear Regression with Cross Validation: "
   ]
  },
  {
   "cell_type": "code",
   "execution_count": 17,
   "metadata": {},
   "outputs": [],
   "source": [
    "#Split into test and train X and Y\n",
    "X = df_1.drop(columns=['TOTAL_VISITS'])\n",
    "y = df_1['TOTAL_VISITS']\n",
    "X_train, X_test, y_train, y_test = train_test_split(X, y, test_size=0.2, random_state=42)"
   ]
  },
  {
   "cell_type": "code",
   "execution_count": 18,
   "metadata": {},
   "outputs": [
    {
     "data": {
      "text/plain": [
       "Date\n",
       "2017-12-21    432.0\n",
       "2017-12-22     48.0\n",
       "2017-12-23    266.0\n",
       "2017-12-24    283.0\n",
       "2017-12-25    281.0\n",
       "Name: TOTAL_VISITS, dtype: float64"
      ]
     },
     "execution_count": 18,
     "metadata": {},
     "output_type": "execute_result"
    }
   ],
   "source": [
    "y.head()"
   ]
  },
  {
   "cell_type": "code",
   "execution_count": 9,
   "metadata": {},
   "outputs": [
    {
     "data": {
      "image/png": "[encoded data removed]",
      "text/plain": [
       "<Figure size 720x360 with 1 Axes>"
      ]
     },
     "metadata": {
      "needs_background": "light"
     },
     "output_type": "display_data"
    }
   ],
   "source": [
    "#visualization of target - Visits\n",
    "fig, ax = plt.subplots(figsize=(10, 5))\n",
    "ax.hist(y, bins=100);\n"
   ]
  },
  {
   "cell_type": "code",
   "execution_count": 22,
   "metadata": {},
   "outputs": [
    {
     "name": "stdout",
     "output_type": "stream",
     "text": [
      "Cross Validation Scores: {'fit_time': array([0.0324769 , 0.02553225, 0.02359891]), 'score_time': array([0.01517701, 0.02217674, 0.01897621]), 'test_score': array([0.35521544, 0.44897868, 0.44931362]), 'train_score': array([0.55955406, 0.51543235, 0.5481807 ])}\n",
      "mean CV Score: 0.41783591380107216\n"
     ]
    }
   ],
   "source": [
    "#Split into test and train X and Y\n",
    "# X = df_1.drop(columns=['TOTAL_VISITS'])\n",
    "# y = df_1['TOTAL_VISITS']\n",
    "# X_train, X_test, y_train, y_test = train_test_split(X, y, test_size=0.2, random_state=42)\n",
    "\n",
    "#column transformer - this sets up simmilar to pipeline (scaler and transformer)\n",
    "\n",
    "cat = ['is_school_out', 'is_holiday', 'day_of_week_num']\n",
    "non_cat = ['T - AWND', 'T - PRCP', 'T - SNOW', 'T - SNWD', 'T - TAVG', 'M_PRCP', 'M_SNWD', 'M_TAVG']\n",
    "\n",
    "\n",
    "Transformer = ColumnTransformer([\n",
    "\t('ohe', OneHotEncoder(), cat),\n",
    "\t('scaler', StandardScaler(), non_cat),\n",
    "\t], remainder ='passthrough')\n",
    "\n",
    "#setting up the pipe and training the model: \n",
    "\n",
    "LRPipe = Pipeline([('trans', Transformer),\n",
    "                ('linreg', LinearRegression())])\n",
    "\n",
    "LRPipe.fit(X_train, y_train)\n",
    "\n",
    "#cross validation and scoring\n",
    "cv = cross_validate(LRPipe, X_train, y_train, return_train_score=True, cv=3)\n",
    "cv_score = cross_val_score(LRPipe, X_train, y_train, cv = 3)\n",
    "\n",
    "print(f'Cross Validation Scores: {cv}')\n",
    "\n",
    "print(f'mean CV Score: {cv_score.mean()}')"
   ]
  },
  {
   "cell_type": "markdown",
   "metadata": {},
   "source": [
    "With Encoding and scaling, the Basic Linear Regression CV score is 0.418\n",
    "\n",
    "There is definitly some room for improvement! "
   ]
  },
  {
   "cell_type": "markdown",
   "metadata": {},
   "source": [
    "## Tree Regressor"
   ]
  },
  {
   "cell_type": "code",
   "execution_count": 28,
   "metadata": {},
   "outputs": [
    {
     "name": "stdout",
     "output_type": "stream",
     "text": [
      "Best Parameter Combination for Tree Regressor Found During Grid Search:\n",
      "{'dtr__max_depth': 7, 'dtr__min_samples_split': 10, 'dtr__splitter': 'best'}\n",
      "Tree Grid Cross Validation Scores: {'fit_time': array([1.7129879 , 1.77686095, 1.69458604]), 'score_time': array([0.00824189, 0.0036962 , 0.00476289]), 'test_score': array([0.43429782, 0.47071407, 0.28483747]), 'train_score': array([0.88152865, 0.83650799, 0.82616951])}\n",
      "Tree Grid mean CV Score: 0.39661645429417974\n"
     ]
    }
   ],
   "source": [
    "#Split into test and train X and Y\n",
    "X = df_1.drop(columns=['TOTAL_VISITS'])\n",
    "y = df_1['TOTAL_VISITS']\n",
    "X_train, X_test, y_train, y_test = train_test_split(X, y, test_size=0.2, random_state=42)\n",
    "\n",
    "#column transformer - this sets up simmilar to pipeline (scaler and transformer)\n",
    "cat = ['is_school_out', 'is_holiday', 'day_of_week_num']\n",
    "non_cat = ['T - AWND', 'T - PRCP', 'T - SNOW', 'T - SNWD', 'T - TAVG', 'M_PRCP', 'M_SNWD', 'M_TAVG']\n",
    "\n",
    "Transformer = ColumnTransformer([\n",
    "\t('ohe', OneHotEncoder(), cat),\n",
    "\t# ('scaler', StandardScaler(), non_cat), #no need to scale on Trees\n",
    "\t], remainder ='passthrough')\n",
    "\n",
    "dtr = DecisionTreeRegressor(random_state=42)\n",
    "\n",
    "TreeRegPipe = Pipeline([('trans', Transformer),\n",
    "                        ('dtr', dtr)])\n",
    "\n",
    "dtr_param_grid = {\n",
    "\t'dtr__splitter': ['best', 'random'],\n",
    "    'dtr__min_samples_split': [4, 6, 8, 10],\n",
    "    'dtr__max_depth': [4, 5, 6, 7, 8]\n",
    "}\t\t\n",
    "\n",
    "#set up gridsearch:\n",
    "TreeGrid = GridSearchCV(estimator=TreeRegPipe,\n",
    "\t\t\t\t\t\t  param_grid=dtr_param_grid,\n",
    "\t\t\t\t\t\t  cv=3)\n",
    "\n",
    "TreeGrid.fit(X_train, y_train)\n",
    "\n",
    "#cross validation and scoring\n",
    "cv = cross_validate(TreeGrid, X_train, y_train, return_train_score=True, cv=3)\n",
    "cv_score = cross_val_score(TreeGrid, X_train, y_train, cv = 3)\n",
    "\n",
    "print(\"Best Parameter Combination for Tree Regressor Found During Grid Search:\")\n",
    "print(TreeGrid.best_params_)\n",
    "\n",
    "print(f'Tree Grid Cross Validation Scores: {cv}')\n",
    "\n",
    "print(f'Tree Grid mean CV Score: {cv_score.mean()}')"
   ]
  },
  {
   "cell_type": "markdown",
   "metadata": {},
   "source": [
    "Tree Regressor did not perform well with the best score of .397 in comparison to linear regression with a score of .418"
   ]
  },
  {
   "cell_type": "markdown",
   "metadata": {},
   "source": [
    "## Random Forests "
   ]
  },
  {
   "cell_type": "code",
   "execution_count": 29,
   "metadata": {},
   "outputs": [
    {
     "name": "stdout",
     "output_type": "stream",
     "text": [
      "Best Parameter Combination Found During Grid Search:\n",
      "{'dtr__criterion': 'mae', 'dtr__max_depth': None, 'dtr__max_features': 'auto', 'dtr__n_estimators': 10}\n"
     ]
    }
   ],
   "source": [
    "#pipeline_3:\n",
    "from sklearn.ensemble import RandomForestRegressor\n",
    "\n",
    "# #Split into test and train X and Y\n",
    "# X = df_3_preprocessed.drop(columns=['TOTAL_VISITS'])\n",
    "# y = df_3_preprocessed['TOTAL_VISITS']\n",
    "# X_train, X_test, y_train, y_test = train_test_split(X, y, test_size=0.20, random_state=42)\n",
    "\n",
    "#column transformer - this sets up simmilar to pipeline (scaler and transformer)\n",
    "\n",
    "cat = ['is_school_out', 'is_holiday', 'day_of_week_num']\n",
    "non_cat = ['T - AWND', 'T - PRCP', 'T - SNOW', 'T - SNWD', 'T - TAVG', 'M_PRCP', 'M_SNWD', 'M_TAVG']\n",
    "\n",
    "Transformer = ColumnTransformer([\n",
    "\t('ohe', OneHotEncoder(), cat),\n",
    "\t# ('scaler', StandardScaler(), non_cat), #no need to scale on Trees\n",
    "\t], remainder ='passthrough')\n",
    "\n",
    "#Pipeline second Step: treeregressor\n",
    "rfr = RandomForestRegressor(random_state = 42)\n",
    "\n",
    "#pipeline\n",
    "pipeline_3 = Pipeline([('transformer', Transformer),\n",
    "\t\t\t\t\t\t('dtr', rfr)])\n",
    "\n",
    "#set up grid search paramater grid\n",
    "rfr_param_grid = {\n",
    "    'dtr__n_estimators': [2, 4, 6, 8, 10, 12, 14, 16],\n",
    "    'dtr__max_depth': [None, 2, 3, 4, 5, 6, 8, 10],\n",
    "\t'dtr__max_features': ['auto', 'sqrt', 'log2'],\n",
    "\t'dtr__criterion': ['mse', 'mae']\n",
    "}\n",
    "\n",
    "#set up gridsearch:\n",
    "gridsearch2 = GridSearchCV(estimator=pipeline_3,\n",
    "\t\t\t\t\t\t  param_grid=rfr_param_grid,\n",
    "\t\t\t\t\t\t  cv=3)\n",
    "\n",
    "#fit gridsearch\n",
    "gridsearch2.fit(X_train, y_train)\n",
    "\n",
    "\n",
    "print(\"Best Parameter Combination Found During Grid Search:\")\n",
    "print(gridsearch2.best_params_)"
   ]
  },
  {
   "cell_type": "code",
   "execution_count": 36,
   "metadata": {},
   "outputs": [
    {
     "name": "stdout",
     "output_type": "stream",
     "text": [
      "Cross Validation Scores best Random Forest Regressor: {'fit_time': array([0.10468078, 0.10215998, 0.10118198, 0.11714292, 0.10317492]), 'score_time': array([0.008425  , 0.00471592, 0.00667   , 0.00649691, 0.00496221]), 'test_score': array([0.57028451, 0.64140287, 0.7529616 , 0.68577996, 0.42613841]), 'train_score': array([0.93575578, 0.91772552, 0.91531086, 0.91971138, 0.91446831])}\n",
      "mean CV Score: 0.61531347043847\n"
     ]
    }
   ],
   "source": [
    "#pipeline_3:\n",
    "from sklearn.ensemble import RandomForestRegressor\n",
    "\n",
    "#Split into test and train X and Y\n",
    "X = df_1.drop(columns=['TOTAL_VISITS'])\n",
    "y = df_1['TOTAL_VISITS']\n",
    "X_train, X_test, y_train, y_test = train_test_split(X, y, test_size=0.20, random_state=42)\n",
    "\n",
    "#column transformer - this sets up simmilar to pipeline (scaler and transformer)\n",
    "\n",
    "cat = ['is_school_out', 'is_holiday', 'day_of_week_num']\n",
    "non_cat = ['T - AWND', 'T - PRCP', 'T - SNOW', 'T - SNWD', 'T - TAVG', 'M_PRCP', 'M_SNWD', 'M_TAVG']\n",
    "\n",
    "Transformer = ColumnTransformer([\n",
    "\t('ohe', OneHotEncoder(), cat),\n",
    "\t# ('scaler', StandardScaler(), non_cat), #no need to scale on Trees\n",
    "\t], remainder ='passthrough')\n",
    "\n",
    "#Pipeline second Step: treeregressor\n",
    "rfr = RandomForestRegressor(criterion = 'mae', max_depth = None, max_features = 'auto', n_estimators = 10, random_state = 42)\n",
    "\n",
    "#pipeline\n",
    "pipeline_3 = Pipeline([('transformer', Transformer),\n",
    "\t\t\t\t\t\t('dtr', rfr)])\n",
    "\n",
    "\n",
    "pipeline_3.fit(X_train, y_train)\n",
    "\n",
    "cv = cross_validate(pipeline_3, X_train, y_train, return_train_score=True, cv=5)\n",
    "cv_score = cross_val_score(pipeline_3, X_train, y_train, cv = 5)\n",
    "print(f'Cross Validation Scores best Random Forest Regressor: {cv}')\n",
    "\n",
    "print(f'mean CV Score: {cv_score.mean()}')"
   ]
  },
  {
   "cell_type": "markdown",
   "metadata": {},
   "source": [
    "For Resort 1, forests are performing better than trees with a CV score of .615!"
   ]
  },
  {
   "cell_type": "markdown",
   "metadata": {},
   "source": [
    "## Gradient Boosting: "
   ]
  },
  {
   "cell_type": "code",
   "execution_count": 32,
   "metadata": {},
   "outputs": [
    {
     "name": "stdout",
     "output_type": "stream",
     "text": [
      "Best Parameter Combination Found During Gradient Boosting Grid Search:\n",
      "{'gbr__criterion': 'friedman_mse', 'gbr__min_samples_split': 3, 'gbr__n_estimators': 100}\n"
     ]
    }
   ],
   "source": [
    "from sklearn.ensemble import GradientBoostingRegressor\n",
    "\n",
    "#pipeline_4:\n",
    "\n",
    "#Split into test and train X and Y\n",
    "# X = df_1.drop(columns=['TOTAL_VISITS'])\n",
    "# y = df_1['TOTAL_VISITS']\n",
    "# X_train, X_test, y_train, y_test = train_test_split(X, y, test_size=0.20, random_state=42)\n",
    "\n",
    "#column transformer - this sets up simmilar to pipeline (scaler and transformer)\n",
    "\n",
    "cat = ['is_school_out', 'is_holiday', 'day_of_week_num']\n",
    "non_cat = ['T - AWND', 'T - PRCP', 'T - SNOW', 'T - SNWD', 'T - TAVG', 'M_PRCP', 'M_SNWD', 'M_TAVG']\n",
    "\n",
    "Transformer = ColumnTransformer([\n",
    "\t('ohe', OneHotEncoder(), cat),\n",
    "\t# ('scaler', StandardScaler(), non_cat), #no need to scale on Trees\n",
    "\t], remainder ='passthrough')\n",
    "\n",
    "#Pipeline second Step: treeregressor\n",
    "GBR = GradientBoostingRegressor(random_state = 42)\n",
    "\n",
    "#pipeline\n",
    "pipeline_4 = Pipeline([('transformer', Transformer),\n",
    "\t\t\t\t\t\t('gbr', GBR)])\n",
    "\n",
    "#set up grid search paramater grid\n",
    "gbr_param_grid = {\n",
    "    'gbr__n_estimators': [50, 100, 200, 300],\n",
    "    'gbr__criterion': ['friedman_mse', 'mse', 'mae'],\n",
    "\t'gbr__min_samples_split': [2, 3, 4, 5]\n",
    "}\n",
    "\n",
    "#set up gridsearch:\n",
    "gridsearch3 = GridSearchCV(estimator=pipeline_4,\n",
    "\t\t\t\t\t\t  param_grid=gbr_param_grid,\n",
    "\t\t\t\t\t\t  cv=5)\n",
    "\n",
    "\n",
    "#fit gridsearch\n",
    "gridsearch3.fit(X_train, y_train)\n",
    "\n",
    "print(\"Best Parameter Combination Found During Gradient Boosting Grid Search:\")\n",
    "print(gridsearch3.best_params_)\n"
   ]
  },
  {
   "cell_type": "code",
   "execution_count": 35,
   "metadata": {},
   "outputs": [
    {
     "name": "stdout",
     "output_type": "stream",
     "text": [
      "Cross Validation Score Gradient Boosting Model: {'fit_time': array([0.09019113, 0.06526279, 0.06683993, 0.06603694, 0.08423114]), 'score_time': array([0.00608301, 0.00390124, 0.00385904, 0.004812  , 0.00417709]), 'test_score': array([0.64582103, 0.72973226, 0.72184128, 0.7821154 , 0.64737244]), 'train_score': array([0.92685098, 0.92960816, 0.92977908, 0.91711137, 0.93585572])}\n",
      "mean CV Score: 0.705376480997786\n"
     ]
    }
   ],
   "source": [
    "#Using best params on a gradient booster regressor then scoring thorugh cross val: \n",
    "\n",
    "#column transformer - this sets up simmilar to pipeline (scaler and transformer)\n",
    "\n",
    "cat = ['is_school_out', 'is_holiday', 'day_of_week_num']\n",
    "non_cat = ['T - AWND', 'T - PRCP', 'T - SNOW', 'T - SNWD', 'T - TAVG', 'M_PRCP', 'M_SNWD', 'M_TAVG']\n",
    "\n",
    "Transformer = ColumnTransformer([\n",
    "\t('ohe', OneHotEncoder(), cat),\n",
    "\t# ('scaler', StandardScaler(), non_cat), #no need to scale on Trees\n",
    "\t], remainder ='passthrough')\n",
    "\n",
    "#Pipeline second Step: treeregressor\n",
    "# GBR = GradientBoostingRegressor(criterion='mse', n_estimators=200, random_state = 42)\n",
    "GBR = GradientBoostingRegressor(criterion='friedman_mse', n_estimators=100, min_samples_split= 3, random_state = 42)\n",
    "\n",
    "#pipeline\n",
    "pipeline_gbr = Pipeline([('transformer', Transformer),\n",
    "\t\t\t\t\t\t('gbr', GBR)])\n",
    "\n",
    "pipeline_gbr.fit(X_train, y_train)\n",
    "\n",
    "\n",
    "cv = cross_validate(pipeline_gbr, X_train, y_train, return_train_score=True, cv=5)\n",
    "cv_score = cross_val_score(pipeline_gbr, X_train, y_train, cv = 5)\n",
    "print(f'Cross Validation Score Gradient Boosting Model: {cv}')\n",
    "\n",
    "print(f'mean CV Score: {cv_score.mean()}')"
   ]
  },
  {
   "cell_type": "markdown",
   "metadata": {},
   "source": [
    "### Gradient Booster Regressor is doing the best: \n",
    "\n",
    "And more improvement! We got our average model CV score up to .705"
   ]
  },
  {
   "cell_type": "code",
   "execution_count": 37,
   "metadata": {},
   "outputs": [
    {
     "name": "stdout",
     "output_type": "stream",
     "text": [
      "Best Parameter Combination Found During Grid Search:\n",
      "{'xgb_r__eta': 0.2, 'xgb_r__max_depth': 3}\n"
     ]
    }
   ],
   "source": [
    "import xgboost as xg\n",
    "\n",
    "from sklearn.ensemble import GradientBoostingRegressor\n",
    "\n",
    "#x_boost Pipe:\n",
    "\n",
    "# X = df_1.drop(columns=['TOTAL_VISITS'])\n",
    "# y = df_1['TOTAL_VISITS']\n",
    "# X_train, X_test, y_train, y_test = train_test_split(X, y, test_size=0.2, random_state=42)\n",
    "\n",
    "# Pipeline first step: Transformer\n",
    "\n",
    "cat = ['is_school_out', 'is_holiday', 'day_of_week_num']\n",
    "non_cat = ['T - AWND', 'T - PRCP', 'T - SNOW', 'T - SNWD', 'T - TAVG', 'M_PRCP', 'M_SNWD', 'M_TAVG']\n",
    "\n",
    "Transformer = ColumnTransformer([\n",
    "\t('ohe', OneHotEncoder(), cat),\n",
    "\t('scaler', StandardScaler(), non_cat),\n",
    "\t], remainder ='passthrough')\n",
    "\n",
    "#Pipeline second Step: treeregressor\n",
    "xgb_r = xg.XGBRegressor(seed = 123)\n",
    "\n",
    "#pipeline\n",
    "xboostPipe = Pipeline([('transformer', Transformer),\n",
    "\t\t\t\t\t\t('xgb_r', xgb_r)])\n",
    "\n",
    "# objective ='reg:squarederror', n_estimators = 10, \n",
    "boost_param_grid = {\n",
    "    'xgb_r__eta': [.2, .3, .4, .5, .6, .7, .8],\n",
    "\t'xgb_r__max_depth': [3, 4, 5, 6, 7, 8, 9, 10]\n",
    "}\n",
    "\n",
    "gridsearch_boost = GridSearchCV(estimator=xboostPipe,\n",
    "\t\t\t\t\t\t  param_grid=boost_param_grid,\n",
    "\t\t\t\t\t\t  cv=5)\n",
    "\n",
    "#fit gridsearch\n",
    "gridsearch_boost.fit(X_train, y_train)\n",
    "\n",
    "print(\"Best Parameter Combination Found During Grid Search:\")\n",
    "print(gridsearch_boost.best_params_)"
   ]
  },
  {
   "cell_type": "code",
   "execution_count": 38,
   "metadata": {},
   "outputs": [
    {
     "name": "stdout",
     "output_type": "stream",
     "text": [
      "Cross Validation Scores: {'fit_time': array([0.10541511, 0.05193114, 0.04159904, 0.04817104, 0.04404402]), 'score_time': array([0.00847983, 0.01229191, 0.01034975, 0.00830412, 0.0126729 ]), 'test_score': array([0.60579381, 0.73290358, 0.72137846, 0.81642227, 0.64039896]), 'train_score': array([0.95982675, 0.96375075, 0.96609444, 0.96010115, 0.96666743])}\n",
      "mean CV Score: 0.7033794159155814\n"
     ]
    }
   ],
   "source": [
    "#x_boost Pipe with ideal paramaters:\n",
    "\n",
    "# X = df_1.drop(columns=['TOTAL_VISITS'])\n",
    "# y = df_1['TOTAL_VISITS']\n",
    "# X_train, X_test, y_train, y_test = train_test_split(X, y, test_size=0.2, random_state=42)\n",
    "\n",
    "# Pipeline first step: Transformer\n",
    "cat = ['is_school_out', 'is_holiday', 'day_of_week_num']\n",
    "non_cat = ['T - AWND', 'T - PRCP', 'T - SNOW', 'T - SNWD', 'T - TAVG', 'M_PRCP', 'M_SNWD', 'M_TAVG']\n",
    "\n",
    "Transformer = ColumnTransformer([\n",
    "\t('ohe', OneHotEncoder(), cat),\n",
    "\t('scaler', StandardScaler(), non_cat),\n",
    "\t], remainder ='passthrough')\n",
    "\n",
    "#Pipeline second Step: \n",
    "xgb_r_2 = xg.XGBRegressor(eta = 0.2, max_depth = 3, seed = 123)\n",
    "\n",
    "xboostPipe_2 = Pipeline([('transformer', Transformer),\n",
    "\t\t\t\t\t\t('xgb_r_2', xgb_r_2)])\n",
    "\n",
    "xboostPipe_2.fit(X_train, y_train)\n",
    "\n",
    "cv = cross_validate(xboostPipe_2, X_train, y_train, return_train_score=True, cv=5)\n",
    "cv_score = cross_val_score(xboostPipe_2, X_train, y_train, cv = 5)\n",
    "print(f'Cross Validation Scores: {cv}')\n",
    "\n",
    "print(f'mean CV Score: {cv_score.mean()}')"
   ]
  },
  {
   "cell_type": "markdown",
   "metadata": {},
   "source": [
    "X boost for resort 1 is preforming about the same as the Gradient Booster Regressor"
   ]
  },
  {
   "cell_type": "markdown",
   "metadata": {},
   "source": [
    "## Evaluation\n",
    "\n",
    "**Gradient Booster Regressor** \n",
    "\n",
    "CV score up to .72"
   ]
  },
  {
   "cell_type": "code",
   "execution_count": 39,
   "metadata": {},
   "outputs": [
    {
     "data": {
      "text/plain": [
       "0.7738167530522504"
      ]
     },
     "execution_count": 39,
     "metadata": {},
     "output_type": "execute_result"
    }
   ],
   "source": [
    "#GBR Test Score\n",
    "pipeline_gbr.score(X_test, y_test)"
   ]
  },
  {
   "cell_type": "markdown",
   "metadata": {},
   "source": [
    "Gradient Booster Regressor gets a test CV score of .774, this means we can account for 77% of the variance in the data with our Gradient Booster Regressor model. "
   ]
  },
  {
   "cell_type": "code",
   "execution_count": 40,
   "metadata": {},
   "outputs": [
    {
     "data": {
      "text/html": [
       "<div>\n",
       "<style scoped>\n",
       "    .dataframe tbody tr th:only-of-type {\n",
       "        vertical-align: middle;\n",
       "    }\n",
       "\n",
       "    .dataframe tbody tr th {\n",
       "        vertical-align: top;\n",
       "    }\n",
       "\n",
       "    .dataframe thead th {\n",
       "        text-align: right;\n",
       "    }\n",
       "</style>\n",
       "<table border=\"1\" class=\"dataframe\">\n",
       "  <thead>\n",
       "    <tr style=\"text-align: right;\">\n",
       "      <th></th>\n",
       "      <th>Real Visits</th>\n",
       "      <th>Predicted Visits</th>\n",
       "      <th>Difference</th>\n",
       "    </tr>\n",
       "    <tr>\n",
       "      <th>Date</th>\n",
       "      <th></th>\n",
       "      <th></th>\n",
       "      <th></th>\n",
       "    </tr>\n",
       "  </thead>\n",
       "  <tbody>\n",
       "    <tr>\n",
       "      <th>2021-02-07</th>\n",
       "      <td>4612.0</td>\n",
       "      <td>4421.515130</td>\n",
       "      <td>190.484870</td>\n",
       "    </tr>\n",
       "    <tr>\n",
       "      <th>2021-04-04</th>\n",
       "      <td>887.0</td>\n",
       "      <td>1718.004963</td>\n",
       "      <td>831.004963</td>\n",
       "    </tr>\n",
       "    <tr>\n",
       "      <th>2019-02-20</th>\n",
       "      <td>2769.0</td>\n",
       "      <td>2917.148642</td>\n",
       "      <td>148.148642</td>\n",
       "    </tr>\n",
       "    <tr>\n",
       "      <th>2021-03-07</th>\n",
       "      <td>4072.0</td>\n",
       "      <td>2935.819651</td>\n",
       "      <td>1136.180349</td>\n",
       "    </tr>\n",
       "    <tr>\n",
       "      <th>2020-01-27</th>\n",
       "      <td>1393.0</td>\n",
       "      <td>1853.388422</td>\n",
       "      <td>460.388422</td>\n",
       "    </tr>\n",
       "  </tbody>\n",
       "</table>\n",
       "</div>"
      ],
      "text/plain": [
       "            Real Visits  Predicted Visits   Difference\n",
       "Date                                                  \n",
       "2021-02-07       4612.0       4421.515130   190.484870\n",
       "2021-04-04        887.0       1718.004963   831.004963\n",
       "2019-02-20       2769.0       2917.148642   148.148642\n",
       "2021-03-07       4072.0       2935.819651  1136.180349\n",
       "2020-01-27       1393.0       1853.388422   460.388422"
      ]
     },
     "execution_count": 40,
     "metadata": {},
     "output_type": "execute_result"
    }
   ],
   "source": [
    "y_pred_boost = pipeline_gbr.predict(X_test)\n",
    "\n",
    "df = pd.DataFrame({'Real Visits':y_test, 'Predicted Visits':y_pred_boost, 'Difference': abs(y_test - y_pred_boost)})\n",
    "df.head()\n"
   ]
  },
  {
   "cell_type": "code",
   "execution_count": 41,
   "metadata": {},
   "outputs": [
    {
     "data": {
      "text/plain": [
       "680.7975932095176"
      ]
     },
     "execution_count": 41,
     "metadata": {},
     "output_type": "execute_result"
    }
   ],
   "source": [
    "df['Difference'].mean()"
   ]
  },
  {
   "cell_type": "code",
   "execution_count": 42,
   "metadata": {},
   "outputs": [
    {
     "name": "stdout",
     "output_type": "stream",
     "text": [
      "is_school_out 0.025351575103521214\n",
      "is_holiday 0.044095493823134074\n",
      "T - AWND 0.0078595078668822\n",
      "T - PRCP 0.002770315723362899\n",
      "T - SNOW 0.003630304218622402\n",
      "T - SNWD 0.015046849206457756\n",
      "T - TAVG 0.0008085034731838031\n",
      "M_PRCP 0.00018606127178336004\n",
      "M_SNWD 0.024309256917961996\n",
      "M_TAVG 0.16566395836282116\n",
      "day_of_week_num 0.1661238930660503\n",
      "month 0.033529529612692566\n"
     ]
    }
   ],
   "source": [
    "for name, importance in zip(X_train.columns, pipeline_gbr['gbr'].feature_importances_):\n",
    "    print(name, importance)"
   ]
  },
  {
   "cell_type": "code",
   "execution_count": 43,
   "metadata": {},
   "outputs": [
    {
     "name": "stdout",
     "output_type": "stream",
     "text": [
      "x0_0 0.025351575103521214\n",
      "x0_1 0.044095493823134074\n",
      "x1_0 0.0078595078668822\n",
      "x1_1 0.002770315723362899\n",
      "x2_0 0.003630304218622402\n",
      "x2_1 0.015046849206457756\n",
      "x2_2 0.0008085034731838031\n",
      "x2_3 0.00018606127178336004\n",
      "x2_4 0.024309256917961996\n",
      "x2_5 0.16566395836282116\n",
      "x2_6 0.1661238930660503\n",
      "T - AWND 0.033529529612692566\n",
      "T - PRCP 0.00670711305094752\n",
      "T - SNOW 0.02912046300665862\n",
      "T - SNWD 0.0077716566739196745\n",
      "T - TAVG 0.08672645724291084\n",
      "M_PRCP 0.0064209374777957785\n",
      "M_SNWD 0.17026598560975334\n",
      "M_TAVG 0.04147328876189428\n"
     ]
    }
   ],
   "source": [
    "ohe = pipeline_gbr.named_steps[\"transformer\"].transformers_[0][1].get_feature_names()\n",
    "numbers = non_cat\n",
    "\n",
    "columns = [*ohe, *numbers]\n",
    "\n",
    "for name, importance in zip(columns, pipeline_gbr['gbr'].feature_importances_):\n",
    "    print(name, importance)\n"
   ]
  },
  {
   "cell_type": "code",
   "execution_count": 44,
   "metadata": {},
   "outputs": [
    {
     "ename": "IndexError",
     "evalue": "index 19 is out of bounds for axis 0 with size 19",
     "output_type": "error",
     "traceback": [
      "\u001b[0;31m---------------------------------------------------------------------------\u001b[0m",
      "\u001b[0;31mIndexError\u001b[0m                                Traceback (most recent call last)",
      "\u001b[0;32m<ipython-input-44-47750d432df1>\u001b[0m in \u001b[0;36m<module>\u001b[0;34m\u001b[0m\n\u001b[1;32m      7\u001b[0m \u001b[0mplt\u001b[0m\u001b[0;34m.\u001b[0m\u001b[0msubplot\u001b[0m\u001b[0;34m(\u001b[0m\u001b[0;36m1\u001b[0m\u001b[0;34m,\u001b[0m \u001b[0;36m2\u001b[0m\u001b[0;34m,\u001b[0m \u001b[0;36m1\u001b[0m\u001b[0;34m)\u001b[0m\u001b[0;34m\u001b[0m\u001b[0;34m\u001b[0m\u001b[0m\n\u001b[1;32m      8\u001b[0m \u001b[0mplt\u001b[0m\u001b[0;34m.\u001b[0m\u001b[0mbarh\u001b[0m\u001b[0;34m(\u001b[0m\u001b[0mpos\u001b[0m\u001b[0;34m,\u001b[0m \u001b[0mfeature_importance\u001b[0m\u001b[0;34m[\u001b[0m\u001b[0msorted_idx\u001b[0m\u001b[0;34m]\u001b[0m\u001b[0;34m,\u001b[0m \u001b[0malign\u001b[0m\u001b[0;34m=\u001b[0m\u001b[0;34m\"center\"\u001b[0m\u001b[0;34m)\u001b[0m\u001b[0;34m\u001b[0m\u001b[0;34m\u001b[0m\u001b[0m\n\u001b[0;32m----> 9\u001b[0;31m \u001b[0mplt\u001b[0m\u001b[0;34m.\u001b[0m\u001b[0myticks\u001b[0m\u001b[0;34m(\u001b[0m\u001b[0mpos\u001b[0m\u001b[0;34m,\u001b[0m \u001b[0mnp\u001b[0m\u001b[0;34m.\u001b[0m\u001b[0marray\u001b[0m\u001b[0;34m(\u001b[0m\u001b[0mcolumns\u001b[0m\u001b[0;34m)\u001b[0m\u001b[0;34m[\u001b[0m\u001b[0msorted_idx\u001b[0m\u001b[0;34m]\u001b[0m\u001b[0;34m)\u001b[0m\u001b[0;34m\u001b[0m\u001b[0;34m\u001b[0m\u001b[0m\n\u001b[0m\u001b[1;32m     10\u001b[0m \u001b[0mplt\u001b[0m\u001b[0;34m.\u001b[0m\u001b[0mtitle\u001b[0m\u001b[0;34m(\u001b[0m\u001b[0;34m\"Feature Importance\"\u001b[0m\u001b[0;34m)\u001b[0m\u001b[0;34m\u001b[0m\u001b[0;34m\u001b[0m\u001b[0m\n\u001b[1;32m     11\u001b[0m \u001b[0;34m\u001b[0m\u001b[0m\n",
      "\u001b[0;31mIndexError\u001b[0m: index 19 is out of bounds for axis 0 with size 19"
     ]
    },
    {
     "data": {
      "image/png": "[encoded data removed]",
      "text/plain": [
       "<Figure size 720x1080 with 1 Axes>"
      ]
     },
     "metadata": {
      "needs_background": "light"
     },
     "output_type": "display_data"
    }
   ],
   "source": [
    "from sklearn.inspection import permutation_importance\n",
    "\n",
    "feature_importance = pipeline_gbr['gbr'].feature_importances_\n",
    "sorted_idx = np.argsort(feature_importance)\n",
    "pos = np.arange(sorted_idx.shape[0])\n",
    "fig = plt.figure(figsize=(10, 15))\n",
    "plt.subplot(1, 2, 1)\n",
    "plt.barh(pos, feature_importance[sorted_idx], align=\"center\")\n",
    "plt.yticks(pos, np.array(columns)[sorted_idx])\n",
    "plt.title(\"Feature Importance\")\n",
    "\n",
    "result = permutation_importance(\n",
    "    pipeline_gbr, X_test, y_test, n_repeats=10, random_state=42, n_jobs=2\n",
    ")\n",
    "sorted_idx = result.importances_mean.argsort()\n",
    "plt.subplot(1, 2, 2)\n",
    "plt.boxplot(\n",
    "    result.importances[sorted_idx].T,\n",
    "    vert=False,\n",
    "    labels=np.array(columns)[sorted_idx],\n",
    ")\n",
    "plt.title(\"Permutation Importance (test set)\")\n",
    "fig.tight_layout()\n",
    "plt.show()"
   ]
  },
  {
   "cell_type": "markdown",
   "metadata": {},
   "source": []
  }
 ],
 "metadata": {
  "interpreter": {
   "hash": "c15d3b161d9e31d3c14101c293414707f40e59d6cae0bbd6b708ca3d1e942f6f"
  },
  "kernelspec": {
   "display_name": "Python 3",
   "language": "python",
   "name": "python3"
  },
  "language_info": {
   "codemirror_mode": {
    "name": "ipython",
    "version": 3
   },
   "file_extension": ".py",
   "mimetype": "text/x-python",
   "name": "python",
   "nbconvert_exporter": "python",
   "pygments_lexer": "ipython3",
   "version": "3.8.5"
  }
 },
 "nbformat": 4,
 "nbformat_minor": 4
}
