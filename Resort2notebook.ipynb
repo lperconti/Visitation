{
 "cells": [
  {
   "cell_type": "code",
   "execution_count": 61,
   "source": [
    "import pandas as pd\n",
    "import numpy as np\n",
    "import seaborn as sns\n",
    "import matplotlib.pyplot as plt\n",
    "%matplotlib inline\n",
    "from sklearn.model_selection import train_test_split\n",
    "from sklearn.linear_model import LinearRegression\n",
    "from sklearn.preprocessing import scale\n",
    "from sklearn.preprocessing import OneHotEncoder\n",
    "from sklearn.pipeline import Pipeline\n",
    "from sklearn.preprocessing import StandardScaler\n",
    "from sklearn.compose import ColumnTransformer\n",
    "from sklearn.tree import DecisionTreeRegressor\n",
    "from sklearn.model_selection import GridSearchCV"
   ],
   "outputs": [],
   "metadata": {}
  },
  {
   "cell_type": "markdown",
   "source": [
    "# EDA\n",
    "\n",
    "We'll first load the dataset and do some exploration. \n",
    "\n",
    "This resort is our smallest ski resort. They report that their limiting factor is their parking lot, which prevents the mountain from becoming too overcrowded. \n",
    "\n",
    "A couple notes on getting the data for this particular ski area: \n",
    "\n",
    "* I was unable to get information about school winter and spring breaks for this area. \n",
    "* Mountain Weather Data was gathered from a nearby SNOTEL station that was not at the ski area (6.9 miles away). This ski area has a private weather station that has only started gathering weather data in the last year. \n",
    "* Wind data was not availible for the nearest town\n",
    "* This ski resort only was open a handful of days during 2018 due to lack of snow and unusually warm weather all winter. \n",
    "\n",
    "After cleaning: \n",
    "\n",
    "- Dataset count     468.000000\n",
    "\n",
    "Daily Visitors stats:\n",
    "- mean      992.083333\n",
    "- std       586.503671\n",
    "- min        88.000000\n",
    "- 25%       557.250000\n",
    "- 50%       887.500000\n",
    "- 75%      1329.250000\n",
    "- max      2944.000000"
   ],
   "metadata": {}
  },
  {
   "cell_type": "code",
   "execution_count": 3,
   "source": [
    "#Load the dataset, take a look at the data info: \n",
    "df_2 = pd.read_csv('Data/Resort_2.csv', thousands=',')\n",
    "df_2.info()"
   ],
   "outputs": [
    {
     "output_type": "stream",
     "name": "stdout",
     "text": [
      "<class 'pandas.core.frame.DataFrame'>\n",
      "RangeIndex: 644 entries, 0 to 643\n",
      "Data columns (total 11 columns):\n",
      " #   Column            Non-Null Count  Dtype  \n",
      "---  ------            --------------  -----  \n",
      " 0   Date              644 non-null    object \n",
      " 1   IS_HOLIDAY        644 non-null    int64  \n",
      " 2   Skier visits day  644 non-null    int64  \n",
      " 3   SV Nights         557 non-null    float64\n",
      " 4   TOTAL_VISITS      644 non-null    int64  \n",
      " 5   M_TEMPAVERAGE_F   644 non-null    int64  \n",
      " 6   M_PRECIP_INCHES   643 non-null    float64\n",
      " 7   T_PRCP            644 non-null    float64\n",
      " 8   T_TMAX            644 non-null    int64  \n",
      " 9   T_TMIN            644 non-null    int64  \n",
      " 10  T_TAVG            644 non-null    float64\n",
      "dtypes: float64(4), int64(6), object(1)\n",
      "memory usage: 55.5+ KB\n"
     ]
    }
   ],
   "metadata": {}
  },
  {
   "cell_type": "code",
   "execution_count": 4,
   "source": [
    "#See if there's any duplicates: \n",
    "df_2.duplicated().value_counts()"
   ],
   "outputs": [
    {
     "output_type": "execute_result",
     "data": {
      "text/plain": [
       "False    582\n",
       "True      62\n",
       "dtype: int64"
      ]
     },
     "metadata": {},
     "execution_count": 4
    }
   ],
   "metadata": {}
  },
  {
   "cell_type": "code",
   "execution_count": 5,
   "source": [
    "#Drop Duplicates, check to see if we got rid of them:\n",
    "df_2.drop_duplicates(subset=['Date'], inplace=True)\n",
    "df_2['Date'].duplicated().value_counts()"
   ],
   "outputs": [
    {
     "output_type": "execute_result",
     "data": {
      "text/plain": [
       "False    561\n",
       "Name: Date, dtype: int64"
      ]
     },
     "metadata": {},
     "execution_count": 5
    }
   ],
   "metadata": {}
  },
  {
   "cell_type": "code",
   "execution_count": 6,
   "source": [
    "#Date dealings - make the 'Date' column a datetime object, create day of week and month category to do some EDA and use as variables\n",
    "#make the 'Date' Column a datetime type\n",
    "df_2['Date'] = pd.to_datetime(df_2['Date'])\n",
    "\n",
    "#The day_of_week_num column created with Monday=0, Sunday=6. Weekends = 5 & 6, Friday = 4\n",
    "df_2['day_of_week_num'] = df_2['Date'].dt.dayofweek\n",
    "\n",
    "#The month column created\n",
    "df_2['Month'] = df_2['Date'].dt.month\n",
    "\n",
    "df_2['day_of_week_num'].value_counts()"
   ],
   "outputs": [
    {
     "output_type": "execute_result",
     "data": {
      "text/plain": [
       "5    113\n",
       "6    112\n",
       "4    108\n",
       "3     97\n",
       "0     97\n",
       "2     18\n",
       "1     16\n",
       "Name: day_of_week_num, dtype: int64"
      ]
     },
     "metadata": {},
     "execution_count": 6
    }
   ],
   "metadata": {}
  },
  {
   "cell_type": "code",
   "execution_count": 7,
   "source": [
    "df_2.describe()"
   ],
   "outputs": [
    {
     "output_type": "execute_result",
     "data": {
      "text/plain": [
       "       IS_HOLIDAY  Skier visits day    SV Nights  TOTAL_VISITS  \\\n",
       "count  561.000000        561.000000   474.000000    561.000000   \n",
       "mean     0.062389        786.064171    61.061181    837.655971   \n",
       "std      0.242076        634.459570   179.047829    673.695444   \n",
       "min      0.000000          0.000000     0.000000      0.000000   \n",
       "25%      0.000000        305.000000     0.000000    329.000000   \n",
       "50%      0.000000        683.000000     0.000000    745.000000   \n",
       "75%      0.000000       1167.000000     0.000000   1239.000000   \n",
       "max      1.000000       3575.000000  1825.000000   5127.000000   \n",
       "\n",
       "       M_TEMPAVERAGE_F  M_PRECIP_INCHES      T_PRCP      T_TMAX      T_TMIN  \\\n",
       "count       561.000000       560.000000  561.000000  561.000000  561.000000   \n",
       "mean         32.203209         0.238571    0.082852   52.386809   30.814617   \n",
       "std           6.974806         0.402601    0.168418    9.027840    6.199182   \n",
       "min          14.000000         0.000000    0.000000   32.000000   11.000000   \n",
       "25%          27.000000         0.000000    0.000000   46.000000   27.000000   \n",
       "50%          32.000000         0.100000    0.000000   51.000000   31.000000   \n",
       "75%          37.000000         0.300000    0.090000   58.000000   34.000000   \n",
       "max          51.000000         2.600000    1.120000   86.000000   51.000000   \n",
       "\n",
       "           T_TAVG  day_of_week_num       Month  \n",
       "count  561.000000       561.000000  561.000000  \n",
       "mean    41.599822         3.586453    4.495544  \n",
       "std      6.480177         2.039808    4.242270  \n",
       "min     21.500000         0.000000    1.000000  \n",
       "25%     37.000000         3.000000    2.000000  \n",
       "50%     41.000000         4.000000    3.000000  \n",
       "75%     46.000000         5.000000    4.000000  \n",
       "max     63.000000         6.000000   12.000000  "
      ],
      "text/html": [
       "<div>\n",
       "<style scoped>\n",
       "    .dataframe tbody tr th:only-of-type {\n",
       "        vertical-align: middle;\n",
       "    }\n",
       "\n",
       "    .dataframe tbody tr th {\n",
       "        vertical-align: top;\n",
       "    }\n",
       "\n",
       "    .dataframe thead th {\n",
       "        text-align: right;\n",
       "    }\n",
       "</style>\n",
       "<table border=\"1\" class=\"dataframe\">\n",
       "  <thead>\n",
       "    <tr style=\"text-align: right;\">\n",
       "      <th></th>\n",
       "      <th>IS_HOLIDAY</th>\n",
       "      <th>Skier visits day</th>\n",
       "      <th>SV Nights</th>\n",
       "      <th>TOTAL_VISITS</th>\n",
       "      <th>M_TEMPAVERAGE_F</th>\n",
       "      <th>M_PRECIP_INCHES</th>\n",
       "      <th>T_PRCP</th>\n",
       "      <th>T_TMAX</th>\n",
       "      <th>T_TMIN</th>\n",
       "      <th>T_TAVG</th>\n",
       "      <th>day_of_week_num</th>\n",
       "      <th>Month</th>\n",
       "    </tr>\n",
       "  </thead>\n",
       "  <tbody>\n",
       "    <tr>\n",
       "      <th>count</th>\n",
       "      <td>561.000000</td>\n",
       "      <td>561.000000</td>\n",
       "      <td>474.000000</td>\n",
       "      <td>561.000000</td>\n",
       "      <td>561.000000</td>\n",
       "      <td>560.000000</td>\n",
       "      <td>561.000000</td>\n",
       "      <td>561.000000</td>\n",
       "      <td>561.000000</td>\n",
       "      <td>561.000000</td>\n",
       "      <td>561.000000</td>\n",
       "      <td>561.000000</td>\n",
       "    </tr>\n",
       "    <tr>\n",
       "      <th>mean</th>\n",
       "      <td>0.062389</td>\n",
       "      <td>786.064171</td>\n",
       "      <td>61.061181</td>\n",
       "      <td>837.655971</td>\n",
       "      <td>32.203209</td>\n",
       "      <td>0.238571</td>\n",
       "      <td>0.082852</td>\n",
       "      <td>52.386809</td>\n",
       "      <td>30.814617</td>\n",
       "      <td>41.599822</td>\n",
       "      <td>3.586453</td>\n",
       "      <td>4.495544</td>\n",
       "    </tr>\n",
       "    <tr>\n",
       "      <th>std</th>\n",
       "      <td>0.242076</td>\n",
       "      <td>634.459570</td>\n",
       "      <td>179.047829</td>\n",
       "      <td>673.695444</td>\n",
       "      <td>6.974806</td>\n",
       "      <td>0.402601</td>\n",
       "      <td>0.168418</td>\n",
       "      <td>9.027840</td>\n",
       "      <td>6.199182</td>\n",
       "      <td>6.480177</td>\n",
       "      <td>2.039808</td>\n",
       "      <td>4.242270</td>\n",
       "    </tr>\n",
       "    <tr>\n",
       "      <th>min</th>\n",
       "      <td>0.000000</td>\n",
       "      <td>0.000000</td>\n",
       "      <td>0.000000</td>\n",
       "      <td>0.000000</td>\n",
       "      <td>14.000000</td>\n",
       "      <td>0.000000</td>\n",
       "      <td>0.000000</td>\n",
       "      <td>32.000000</td>\n",
       "      <td>11.000000</td>\n",
       "      <td>21.500000</td>\n",
       "      <td>0.000000</td>\n",
       "      <td>1.000000</td>\n",
       "    </tr>\n",
       "    <tr>\n",
       "      <th>25%</th>\n",
       "      <td>0.000000</td>\n",
       "      <td>305.000000</td>\n",
       "      <td>0.000000</td>\n",
       "      <td>329.000000</td>\n",
       "      <td>27.000000</td>\n",
       "      <td>0.000000</td>\n",
       "      <td>0.000000</td>\n",
       "      <td>46.000000</td>\n",
       "      <td>27.000000</td>\n",
       "      <td>37.000000</td>\n",
       "      <td>3.000000</td>\n",
       "      <td>2.000000</td>\n",
       "    </tr>\n",
       "    <tr>\n",
       "      <th>50%</th>\n",
       "      <td>0.000000</td>\n",
       "      <td>683.000000</td>\n",
       "      <td>0.000000</td>\n",
       "      <td>745.000000</td>\n",
       "      <td>32.000000</td>\n",
       "      <td>0.100000</td>\n",
       "      <td>0.000000</td>\n",
       "      <td>51.000000</td>\n",
       "      <td>31.000000</td>\n",
       "      <td>41.000000</td>\n",
       "      <td>4.000000</td>\n",
       "      <td>3.000000</td>\n",
       "    </tr>\n",
       "    <tr>\n",
       "      <th>75%</th>\n",
       "      <td>0.000000</td>\n",
       "      <td>1167.000000</td>\n",
       "      <td>0.000000</td>\n",
       "      <td>1239.000000</td>\n",
       "      <td>37.000000</td>\n",
       "      <td>0.300000</td>\n",
       "      <td>0.090000</td>\n",
       "      <td>58.000000</td>\n",
       "      <td>34.000000</td>\n",
       "      <td>46.000000</td>\n",
       "      <td>5.000000</td>\n",
       "      <td>4.000000</td>\n",
       "    </tr>\n",
       "    <tr>\n",
       "      <th>max</th>\n",
       "      <td>1.000000</td>\n",
       "      <td>3575.000000</td>\n",
       "      <td>1825.000000</td>\n",
       "      <td>5127.000000</td>\n",
       "      <td>51.000000</td>\n",
       "      <td>2.600000</td>\n",
       "      <td>1.120000</td>\n",
       "      <td>86.000000</td>\n",
       "      <td>51.000000</td>\n",
       "      <td>63.000000</td>\n",
       "      <td>6.000000</td>\n",
       "      <td>12.000000</td>\n",
       "    </tr>\n",
       "  </tbody>\n",
       "</table>\n",
       "</div>"
      ]
     },
     "metadata": {},
     "execution_count": 7
    }
   ],
   "metadata": {}
  },
  {
   "cell_type": "code",
   "execution_count": 8,
   "source": [
    "df_2.isna().sum()"
   ],
   "outputs": [
    {
     "output_type": "execute_result",
     "data": {
      "text/plain": [
       "Date                 0\n",
       "IS_HOLIDAY           0\n",
       "Skier visits day     0\n",
       "SV Nights           87\n",
       "TOTAL_VISITS         0\n",
       "M_TEMPAVERAGE_F      0\n",
       "M_PRECIP_INCHES      1\n",
       "T_PRCP               0\n",
       "T_TMAX               0\n",
       "T_TMIN               0\n",
       "T_TAVG               0\n",
       "day_of_week_num      0\n",
       "Month                0\n",
       "dtype: int64"
      ]
     },
     "metadata": {},
     "execution_count": 8
    }
   ],
   "metadata": {}
  },
  {
   "cell_type": "code",
   "execution_count": 9,
   "source": [
    "#Dropping the NAN value in M_PRECIP_INCHES\n",
    "df_2.dropna(subset=['M_PRECIP_INCHES'], inplace=True)\n",
    "df_2['M_PRECIP_INCHES'].isna().value_counts()"
   ],
   "outputs": [
    {
     "output_type": "execute_result",
     "data": {
      "text/plain": [
       "False    560\n",
       "Name: M_PRECIP_INCHES, dtype: int64"
      ]
     },
     "metadata": {},
     "execution_count": 9
    }
   ],
   "metadata": {}
  },
  {
   "cell_type": "markdown",
   "source": [
    "# Correlation Matrix \n",
    "Let's start exploring correlation, taking out `TOTAL_VISITS` (our target), SP, Day and Night related ticket totals to see if any of our variables are highly correlated. Also taking out `Date` as the specific date is not a predictor. \n"
   ],
   "metadata": {}
  },
  {
   "cell_type": "code",
   "execution_count": 10,
   "source": [
    "#removing columns for correlation testing\n",
    "\n",
    "df_2_corr = df_2.drop(columns=['Date', 'TOTAL_VISITS'])\n",
    "df_2_corr.info()"
   ],
   "outputs": [
    {
     "output_type": "stream",
     "name": "stdout",
     "text": [
      "<class 'pandas.core.frame.DataFrame'>\n",
      "Int64Index: 560 entries, 0 to 643\n",
      "Data columns (total 11 columns):\n",
      " #   Column            Non-Null Count  Dtype  \n",
      "---  ------            --------------  -----  \n",
      " 0   IS_HOLIDAY        560 non-null    int64  \n",
      " 1   Skier visits day  560 non-null    int64  \n",
      " 2   SV Nights         474 non-null    float64\n",
      " 3   M_TEMPAVERAGE_F   560 non-null    int64  \n",
      " 4   M_PRECIP_INCHES   560 non-null    float64\n",
      " 5   T_PRCP            560 non-null    float64\n",
      " 6   T_TMAX            560 non-null    int64  \n",
      " 7   T_TMIN            560 non-null    int64  \n",
      " 8   T_TAVG            560 non-null    float64\n",
      " 9   day_of_week_num   560 non-null    int64  \n",
      " 10  Month             560 non-null    int64  \n",
      "dtypes: float64(4), int64(7)\n",
      "memory usage: 52.5 KB\n"
     ]
    }
   ],
   "metadata": {}
  },
  {
   "cell_type": "code",
   "execution_count": 11,
   "source": [
    "# Create a df with the target as the first column,\n",
    "# then compute the correlation matrix\n",
    "heatmap_data = df_2_corr\n",
    "corr = heatmap_data.corr()\n",
    "\n",
    "# Set up figure and axes\n",
    "fig, ax = plt.subplots(figsize=(20, 20))\n",
    "\n",
    "# Plot a heatmap of the correlation matrix, with both\n",
    "# numbers and colors indicating the correlations\n",
    "sns.heatmap(data=corr, mask=np.triu(np.ones_like(corr, dtype=bool)), ax=ax, annot=True, \n",
    "            cbar_kws={\"label\": \"Correlation\", \"orientation\": \"horizontal\", \"pad\": .2, \"extend\": \"both\"})\n",
    "\n",
    "ax.set_title(\"Heatmap of Correlation Between Attributes (Including Target)\");"
   ],
   "outputs": [
    {
     "output_type": "display_data",
     "data": {
      "text/plain": [
       "<Figure size 1440x1440 with 2 Axes>"
      ],
      "image/png": "[encoded data removed]"
     },
     "metadata": {
      "needs_background": "light"
     }
    }
   ],
   "metadata": {}
  },
  {
   "cell_type": "code",
   "execution_count": 12,
   "source": [
    "#identifying the highest correlated variables\n",
    "\n",
    "df = df_2_corr.corr().abs().stack().reset_index().sort_values(0, ascending=False)\n",
    "\n",
    "df['pairs'] = list(zip(df.level_0, df.level_1))\n",
    "\n",
    "df.set_index(['pairs'], inplace = True)\n",
    "\n",
    "df.drop(columns=['level_1', 'level_0'], inplace = True)\n",
    "\n",
    "# cc for correlation coefficient\n",
    "df.columns = ['cc']\n",
    "\n",
    "df.drop_duplicates(inplace=True)\n",
    "\n",
    "df[(df.cc>.75) & (df.cc<1)]\n"
   ],
   "outputs": [
    {
     "output_type": "execute_result",
     "data": {
      "text/plain": [
       "                        cc\n",
       "pairs                     \n",
       "(T_TMAX, T_TAVG)  0.902177\n",
       "(T_TAVG, T_TMIN)  0.778168"
      ],
      "text/html": [
       "<div>\n",
       "<style scoped>\n",
       "    .dataframe tbody tr th:only-of-type {\n",
       "        vertical-align: middle;\n",
       "    }\n",
       "\n",
       "    .dataframe tbody tr th {\n",
       "        vertical-align: top;\n",
       "    }\n",
       "\n",
       "    .dataframe thead th {\n",
       "        text-align: right;\n",
       "    }\n",
       "</style>\n",
       "<table border=\"1\" class=\"dataframe\">\n",
       "  <thead>\n",
       "    <tr style=\"text-align: right;\">\n",
       "      <th></th>\n",
       "      <th>cc</th>\n",
       "    </tr>\n",
       "    <tr>\n",
       "      <th>pairs</th>\n",
       "      <th></th>\n",
       "    </tr>\n",
       "  </thead>\n",
       "  <tbody>\n",
       "    <tr>\n",
       "      <th>(T_TMAX, T_TAVG)</th>\n",
       "      <td>0.902177</td>\n",
       "    </tr>\n",
       "    <tr>\n",
       "      <th>(T_TAVG, T_TMIN)</th>\n",
       "      <td>0.778168</td>\n",
       "    </tr>\n",
       "  </tbody>\n",
       "</table>\n",
       "</div>"
      ]
     },
     "metadata": {},
     "execution_count": 12
    }
   ],
   "metadata": {}
  },
  {
   "cell_type": "markdown",
   "source": [
    "### Multicollinairity decision\n",
    "\n",
    "Based on the information above it makes sense to drop the Town Max Temperature (`T_TMAX`) and the Town Min Temperature (`T_MIN`)\n",
    "\n",
    "**Ticketing:**\n",
    "\n",
    "To keep things simple I think for now I am going to remove the ticketing and visit informatoin that breaks down season pass vs ticket and night vs day ticketing. I may want to use these as a prediction if there's time or the business need becomes obvious. Unfortunately I don't have pre-sale data to work with. \n",
    "\n",
    "- `SV Nights`\n",
    "- `Skiier Visits Day`"
   ],
   "metadata": {}
  },
  {
   "cell_type": "code",
   "execution_count": 13,
   "source": [
    "df_2_preprocessed = df_2.drop(columns=['T_TMAX', 'T_TMIN', 'SV Nights', 'Skier visits day'])\n",
    "df_2_preprocessed.info()"
   ],
   "outputs": [
    {
     "output_type": "stream",
     "name": "stdout",
     "text": [
      "<class 'pandas.core.frame.DataFrame'>\n",
      "Int64Index: 560 entries, 0 to 643\n",
      "Data columns (total 9 columns):\n",
      " #   Column           Non-Null Count  Dtype         \n",
      "---  ------           --------------  -----         \n",
      " 0   Date             560 non-null    datetime64[ns]\n",
      " 1   IS_HOLIDAY       560 non-null    int64         \n",
      " 2   TOTAL_VISITS     560 non-null    int64         \n",
      " 3   M_TEMPAVERAGE_F  560 non-null    int64         \n",
      " 4   M_PRECIP_INCHES  560 non-null    float64       \n",
      " 5   T_PRCP           560 non-null    float64       \n",
      " 6   T_TAVG           560 non-null    float64       \n",
      " 7   day_of_week_num  560 non-null    int64         \n",
      " 8   Month            560 non-null    int64         \n",
      "dtypes: datetime64[ns](1), float64(3), int64(5)\n",
      "memory usage: 43.8 KB\n"
     ]
    }
   ],
   "metadata": {}
  },
  {
   "cell_type": "markdown",
   "source": [
    "# 0 visit days\n",
    "Taking a look at rows with 0 visits (these are the days the resort is closed)"
   ],
   "metadata": {}
  },
  {
   "cell_type": "code",
   "execution_count": 14,
   "source": [
    "df_2_preprocessed[df_2_preprocessed.TOTAL_VISITS == 0]"
   ],
   "outputs": [
    {
     "output_type": "execute_result",
     "data": {
      "text/plain": [
       "          Date  IS_HOLIDAY  TOTAL_VISITS  M_TEMPAVERAGE_F  M_PRECIP_INCHES  \\\n",
       "26  2016-01-17           0             0               34              1.4   \n",
       "67  2016-03-13           0             0               31              2.3   \n",
       "88  2016-12-01           0             0               25              0.0   \n",
       "89  2016-12-02           0             0               31              0.2   \n",
       "90  2016-12-03           0             0               32              0.0   \n",
       "..         ...         ...           ...              ...              ...   \n",
       "480 2019-12-01           0             0               30              0.5   \n",
       "481 2019-12-02           0             0               35              0.1   \n",
       "482 2019-12-05           0             0               36              0.0   \n",
       "483 2019-12-06           0             0               36              0.3   \n",
       "484 2019-12-07           0             0               35              0.8   \n",
       "\n",
       "     T_PRCP  T_TAVG  day_of_week_num  Month  \n",
       "26     0.42    44.5                6      1  \n",
       "67     0.25    43.5                6      3  \n",
       "88     0.08    42.0                3     12  \n",
       "89     0.00    35.5                4     12  \n",
       "90     0.00    35.0                5     12  \n",
       "..      ...     ...              ...    ...  \n",
       "480    0.10    32.5                6     12  \n",
       "481    0.00    45.0                0     12  \n",
       "482    0.00    37.0                3     12  \n",
       "483    0.00    44.5                4     12  \n",
       "484    0.07    51.5                5     12  \n",
       "\n",
       "[91 rows x 9 columns]"
      ],
      "text/html": [
       "<div>\n",
       "<style scoped>\n",
       "    .dataframe tbody tr th:only-of-type {\n",
       "        vertical-align: middle;\n",
       "    }\n",
       "\n",
       "    .dataframe tbody tr th {\n",
       "        vertical-align: top;\n",
       "    }\n",
       "\n",
       "    .dataframe thead th {\n",
       "        text-align: right;\n",
       "    }\n",
       "</style>\n",
       "<table border=\"1\" class=\"dataframe\">\n",
       "  <thead>\n",
       "    <tr style=\"text-align: right;\">\n",
       "      <th></th>\n",
       "      <th>Date</th>\n",
       "      <th>IS_HOLIDAY</th>\n",
       "      <th>TOTAL_VISITS</th>\n",
       "      <th>M_TEMPAVERAGE_F</th>\n",
       "      <th>M_PRECIP_INCHES</th>\n",
       "      <th>T_PRCP</th>\n",
       "      <th>T_TAVG</th>\n",
       "      <th>day_of_week_num</th>\n",
       "      <th>Month</th>\n",
       "    </tr>\n",
       "  </thead>\n",
       "  <tbody>\n",
       "    <tr>\n",
       "      <th>26</th>\n",
       "      <td>2016-01-17</td>\n",
       "      <td>0</td>\n",
       "      <td>0</td>\n",
       "      <td>34</td>\n",
       "      <td>1.4</td>\n",
       "      <td>0.42</td>\n",
       "      <td>44.5</td>\n",
       "      <td>6</td>\n",
       "      <td>1</td>\n",
       "    </tr>\n",
       "    <tr>\n",
       "      <th>67</th>\n",
       "      <td>2016-03-13</td>\n",
       "      <td>0</td>\n",
       "      <td>0</td>\n",
       "      <td>31</td>\n",
       "      <td>2.3</td>\n",
       "      <td>0.25</td>\n",
       "      <td>43.5</td>\n",
       "      <td>6</td>\n",
       "      <td>3</td>\n",
       "    </tr>\n",
       "    <tr>\n",
       "      <th>88</th>\n",
       "      <td>2016-12-01</td>\n",
       "      <td>0</td>\n",
       "      <td>0</td>\n",
       "      <td>25</td>\n",
       "      <td>0.0</td>\n",
       "      <td>0.08</td>\n",
       "      <td>42.0</td>\n",
       "      <td>3</td>\n",
       "      <td>12</td>\n",
       "    </tr>\n",
       "    <tr>\n",
       "      <th>89</th>\n",
       "      <td>2016-12-02</td>\n",
       "      <td>0</td>\n",
       "      <td>0</td>\n",
       "      <td>31</td>\n",
       "      <td>0.2</td>\n",
       "      <td>0.00</td>\n",
       "      <td>35.5</td>\n",
       "      <td>4</td>\n",
       "      <td>12</td>\n",
       "    </tr>\n",
       "    <tr>\n",
       "      <th>90</th>\n",
       "      <td>2016-12-03</td>\n",
       "      <td>0</td>\n",
       "      <td>0</td>\n",
       "      <td>32</td>\n",
       "      <td>0.0</td>\n",
       "      <td>0.00</td>\n",
       "      <td>35.0</td>\n",
       "      <td>5</td>\n",
       "      <td>12</td>\n",
       "    </tr>\n",
       "    <tr>\n",
       "      <th>...</th>\n",
       "      <td>...</td>\n",
       "      <td>...</td>\n",
       "      <td>...</td>\n",
       "      <td>...</td>\n",
       "      <td>...</td>\n",
       "      <td>...</td>\n",
       "      <td>...</td>\n",
       "      <td>...</td>\n",
       "      <td>...</td>\n",
       "    </tr>\n",
       "    <tr>\n",
       "      <th>480</th>\n",
       "      <td>2019-12-01</td>\n",
       "      <td>0</td>\n",
       "      <td>0</td>\n",
       "      <td>30</td>\n",
       "      <td>0.5</td>\n",
       "      <td>0.10</td>\n",
       "      <td>32.5</td>\n",
       "      <td>6</td>\n",
       "      <td>12</td>\n",
       "    </tr>\n",
       "    <tr>\n",
       "      <th>481</th>\n",
       "      <td>2019-12-02</td>\n",
       "      <td>0</td>\n",
       "      <td>0</td>\n",
       "      <td>35</td>\n",
       "      <td>0.1</td>\n",
       "      <td>0.00</td>\n",
       "      <td>45.0</td>\n",
       "      <td>0</td>\n",
       "      <td>12</td>\n",
       "    </tr>\n",
       "    <tr>\n",
       "      <th>482</th>\n",
       "      <td>2019-12-05</td>\n",
       "      <td>0</td>\n",
       "      <td>0</td>\n",
       "      <td>36</td>\n",
       "      <td>0.0</td>\n",
       "      <td>0.00</td>\n",
       "      <td>37.0</td>\n",
       "      <td>3</td>\n",
       "      <td>12</td>\n",
       "    </tr>\n",
       "    <tr>\n",
       "      <th>483</th>\n",
       "      <td>2019-12-06</td>\n",
       "      <td>0</td>\n",
       "      <td>0</td>\n",
       "      <td>36</td>\n",
       "      <td>0.3</td>\n",
       "      <td>0.00</td>\n",
       "      <td>44.5</td>\n",
       "      <td>4</td>\n",
       "      <td>12</td>\n",
       "    </tr>\n",
       "    <tr>\n",
       "      <th>484</th>\n",
       "      <td>2019-12-07</td>\n",
       "      <td>0</td>\n",
       "      <td>0</td>\n",
       "      <td>35</td>\n",
       "      <td>0.8</td>\n",
       "      <td>0.07</td>\n",
       "      <td>51.5</td>\n",
       "      <td>5</td>\n",
       "      <td>12</td>\n",
       "    </tr>\n",
       "  </tbody>\n",
       "</table>\n",
       "<p>91 rows × 9 columns</p>\n",
       "</div>"
      ]
     },
     "metadata": {},
     "execution_count": 14
    }
   ],
   "metadata": {}
  },
  {
   "cell_type": "code",
   "execution_count": 15,
   "source": [
    "#dropping the 0 visit days: \n",
    "df_2_preprocessed = df_2_preprocessed[df_2_preprocessed.TOTAL_VISITS != 0]\n",
    "df_2_preprocessed['TOTAL_VISITS'].value_counts()"
   ],
   "outputs": [
    {
     "output_type": "execute_result",
     "data": {
      "text/plain": [
       "1026    3\n",
       "270     3\n",
       "1548    3\n",
       "390     3\n",
       "435     3\n",
       "       ..\n",
       "1637    1\n",
       "1641    1\n",
       "618     1\n",
       "1474    1\n",
       "1505    1\n",
       "Name: TOTAL_VISITS, Length: 407, dtype: int64"
      ]
     },
     "metadata": {},
     "execution_count": 15
    }
   ],
   "metadata": {}
  },
  {
   "cell_type": "markdown",
   "source": [
    "## Indexing with Date/Time"
   ],
   "metadata": {}
  },
  {
   "cell_type": "code",
   "execution_count": 16,
   "source": [
    "#df_2_preprocessed.reset_index(inplace=True)\n",
    "df_2_preprocessed.set_index('Date', inplace=True)\n",
    "df_2_preprocessed.head()\n"
   ],
   "outputs": [
    {
     "output_type": "execute_result",
     "data": {
      "text/plain": [
       "            IS_HOLIDAY  TOTAL_VISITS  M_TEMPAVERAGE_F  M_PRECIP_INCHES  \\\n",
       "Date                                                                     \n",
       "2015-12-14           0           755               24              0.5   \n",
       "2015-12-17           0           735               35              0.1   \n",
       "2015-12-18           0           440               31              0.8   \n",
       "2015-12-19           0          1330               25              0.3   \n",
       "2015-12-22           0           463               31              1.0   \n",
       "\n",
       "            T_PRCP  T_TAVG  day_of_week_num  Month  \n",
       "Date                                                \n",
       "2015-12-14    1.05    35.0                0     12  \n",
       "2015-12-17    0.13    34.0                3     12  \n",
       "2015-12-18    0.10    43.0                4     12  \n",
       "2015-12-19    0.77    41.5                5     12  \n",
       "2015-12-22    0.89    43.0                1     12  "
      ],
      "text/html": [
       "<div>\n",
       "<style scoped>\n",
       "    .dataframe tbody tr th:only-of-type {\n",
       "        vertical-align: middle;\n",
       "    }\n",
       "\n",
       "    .dataframe tbody tr th {\n",
       "        vertical-align: top;\n",
       "    }\n",
       "\n",
       "    .dataframe thead th {\n",
       "        text-align: right;\n",
       "    }\n",
       "</style>\n",
       "<table border=\"1\" class=\"dataframe\">\n",
       "  <thead>\n",
       "    <tr style=\"text-align: right;\">\n",
       "      <th></th>\n",
       "      <th>IS_HOLIDAY</th>\n",
       "      <th>TOTAL_VISITS</th>\n",
       "      <th>M_TEMPAVERAGE_F</th>\n",
       "      <th>M_PRECIP_INCHES</th>\n",
       "      <th>T_PRCP</th>\n",
       "      <th>T_TAVG</th>\n",
       "      <th>day_of_week_num</th>\n",
       "      <th>Month</th>\n",
       "    </tr>\n",
       "    <tr>\n",
       "      <th>Date</th>\n",
       "      <th></th>\n",
       "      <th></th>\n",
       "      <th></th>\n",
       "      <th></th>\n",
       "      <th></th>\n",
       "      <th></th>\n",
       "      <th></th>\n",
       "      <th></th>\n",
       "    </tr>\n",
       "  </thead>\n",
       "  <tbody>\n",
       "    <tr>\n",
       "      <th>2015-12-14</th>\n",
       "      <td>0</td>\n",
       "      <td>755</td>\n",
       "      <td>24</td>\n",
       "      <td>0.5</td>\n",
       "      <td>1.05</td>\n",
       "      <td>35.0</td>\n",
       "      <td>0</td>\n",
       "      <td>12</td>\n",
       "    </tr>\n",
       "    <tr>\n",
       "      <th>2015-12-17</th>\n",
       "      <td>0</td>\n",
       "      <td>735</td>\n",
       "      <td>35</td>\n",
       "      <td>0.1</td>\n",
       "      <td>0.13</td>\n",
       "      <td>34.0</td>\n",
       "      <td>3</td>\n",
       "      <td>12</td>\n",
       "    </tr>\n",
       "    <tr>\n",
       "      <th>2015-12-18</th>\n",
       "      <td>0</td>\n",
       "      <td>440</td>\n",
       "      <td>31</td>\n",
       "      <td>0.8</td>\n",
       "      <td>0.10</td>\n",
       "      <td>43.0</td>\n",
       "      <td>4</td>\n",
       "      <td>12</td>\n",
       "    </tr>\n",
       "    <tr>\n",
       "      <th>2015-12-19</th>\n",
       "      <td>0</td>\n",
       "      <td>1330</td>\n",
       "      <td>25</td>\n",
       "      <td>0.3</td>\n",
       "      <td>0.77</td>\n",
       "      <td>41.5</td>\n",
       "      <td>5</td>\n",
       "      <td>12</td>\n",
       "    </tr>\n",
       "    <tr>\n",
       "      <th>2015-12-22</th>\n",
       "      <td>0</td>\n",
       "      <td>463</td>\n",
       "      <td>31</td>\n",
       "      <td>1.0</td>\n",
       "      <td>0.89</td>\n",
       "      <td>43.0</td>\n",
       "      <td>1</td>\n",
       "      <td>12</td>\n",
       "    </tr>\n",
       "  </tbody>\n",
       "</table>\n",
       "</div>"
      ]
     },
     "metadata": {},
     "execution_count": 16
    }
   ],
   "metadata": {}
  },
  {
   "cell_type": "markdown",
   "source": [
    "## Some Visualizations\n"
   ],
   "metadata": {}
  },
  {
   "cell_type": "code",
   "execution_count": 79,
   "source": [
    "import matplotlib as mpl\n",
    "\n",
    "fig, ax = plt.subplots(figsize=(15, 12))\n",
    "sns.boxplot(x='Month', y='TOTAL_VISITS', data=df_2_preprocessed, width=.7)\n",
    "\n",
    "medians = df_2_preprocessed.groupby(['Month'])['TOTAL_VISITS'].median()\n",
    "print(medians)\n",
    "\n",
    "ax.set_xlabel(\"\")\n",
    "\n",
    "ax.set_ylabel(\"Total Daily Visits\", fontsize=24)\n",
    "\n",
    "plt.yticks(fontsize=20)\n",
    "\n",
    "plt.xticks([0, 1, 2, 3, 4], ['Jan', 'Feb', 'Mar', 'Apr', 'Dec'], fontsize=20)\n",
    "\n",
    "ax.yaxis.set_major_formatter(mpl.ticker.StrMethodFormatter('{x:,.0f}'))\n",
    "\n",
    "\n",
    "plt.savefig('Visuals/resort2visits.png', dpi=300);"
   ],
   "outputs": [
    {
     "output_type": "stream",
     "name": "stdout",
     "text": [
      "Month\n",
      "1     1171.0\n",
      "2      969.0\n",
      "3      656.5\n",
      "4      508.0\n",
      "12     922.0\n",
      "Name: TOTAL_VISITS, dtype: float64\n"
     ]
    },
    {
     "output_type": "display_data",
     "data": {
      "text/plain": [
       "<Figure size 1080x864 with 1 Axes>"
      ],
      "image/png": "[encoded data removed]"
     },
     "metadata": {
      "needs_background": "light"
     }
    }
   ],
   "metadata": {}
  },
  {
   "cell_type": "code",
   "execution_count": 17,
   "source": [
    "df_2_preprocessed['TOTAL_VISITS'].plot(figsize = (40, 15));"
   ],
   "outputs": [
    {
     "output_type": "display_data",
     "data": {
      "text/plain": [
       "<Figure size 2880x1080 with 1 Axes>"
      ],
      "image/png": "[encoded data removed]"
     },
     "metadata": {
      "needs_background": "light"
     }
    }
   ],
   "metadata": {}
  },
  {
   "cell_type": "code",
   "execution_count": 18,
   "source": [
    "#identified 5,000 + skiier visit day, that is way over capacity for this resort, going to drop that row\n",
    "\n",
    "df_2_preprocessed = df_2_preprocessed[df_2_preprocessed.TOTAL_VISITS <= 5000]\n",
    "df_2_preprocessed['TOTAL_VISITS'].describe()"
   ],
   "outputs": [
    {
     "output_type": "execute_result",
     "data": {
      "text/plain": [
       "count     468.000000\n",
       "mean      992.083333\n",
       "std       586.503671\n",
       "min        88.000000\n",
       "25%       557.250000\n",
       "50%       887.500000\n",
       "75%      1329.250000\n",
       "max      2944.000000\n",
       "Name: TOTAL_VISITS, dtype: float64"
      ]
     },
     "metadata": {},
     "execution_count": 18
    }
   ],
   "metadata": {}
  },
  {
   "cell_type": "markdown",
   "source": [
    "# First Simple Model\n",
    "Linear Regression"
   ],
   "metadata": {}
  },
  {
   "cell_type": "code",
   "execution_count": 19,
   "source": [
    "#Split into test and train X and Y\n",
    "X = df_2_preprocessed.drop(columns=['TOTAL_VISITS'])\n",
    "y = df_2_preprocessed['TOTAL_VISITS']\n",
    "X_train, X_test, y_train, y_test = train_test_split(X, y, test_size=0.25, random_state=42)"
   ],
   "outputs": [],
   "metadata": {}
  },
  {
   "cell_type": "code",
   "execution_count": 20,
   "source": [
    "y.head()"
   ],
   "outputs": [
    {
     "output_type": "execute_result",
     "data": {
      "text/plain": [
       "Date\n",
       "2015-12-14     755\n",
       "2015-12-17     735\n",
       "2015-12-18     440\n",
       "2015-12-19    1330\n",
       "2015-12-22     463\n",
       "Name: TOTAL_VISITS, dtype: int64"
      ]
     },
     "metadata": {},
     "execution_count": 20
    }
   ],
   "metadata": {}
  },
  {
   "cell_type": "code",
   "execution_count": 21,
   "source": [
    "#visualization of target - Visits\n",
    "fig, ax = plt.subplots(figsize=(10, 5))\n",
    "ax.hist(y, bins=100);"
   ],
   "outputs": [
    {
     "output_type": "display_data",
     "data": {
      "text/plain": [
       "<Figure size 720x360 with 1 Axes>"
      ],
      "image/png": "[encoded data removed]"
     },
     "metadata": {
      "needs_background": "light"
     }
    }
   ],
   "metadata": {}
  },
  {
   "cell_type": "code",
   "execution_count": 22,
   "source": [
    "fig, ax = plt.subplots()\n",
    "\n",
    "ax.scatter(X['day_of_week_num'], y, alpha=0.5)"
   ],
   "outputs": [
    {
     "output_type": "execute_result",
     "data": {
      "text/plain": [
       "<matplotlib.collections.PathCollection at 0x12ad42e80>"
      ]
     },
     "metadata": {},
     "execution_count": 22
    },
    {
     "output_type": "display_data",
     "data": {
      "text/plain": [
       "<Figure size 432x288 with 1 Axes>"
      ],
      "image/png": "[encoded data removed]"
     },
     "metadata": {
      "needs_background": "light"
     }
    }
   ],
   "metadata": {}
  },
  {
   "cell_type": "code",
   "execution_count": 23,
   "source": [
    "#Linear Regression\n",
    "linreg = LinearRegression()\n",
    "linreg.fit(X_train, y_train)"
   ],
   "outputs": [
    {
     "output_type": "execute_result",
     "data": {
      "text/plain": [
       "LinearRegression()"
      ]
     },
     "metadata": {},
     "execution_count": 23
    }
   ],
   "metadata": {}
  },
  {
   "cell_type": "code",
   "execution_count": 24,
   "source": [
    "# Print R-Squared and RMSE\n",
    "\n",
    "from sklearn.metrics import mean_squared_error\n",
    "\n",
    "# Generate predictions using baseline_model and X_train\n",
    "y_pred_baseline = linreg.predict(X_train)\n",
    "print('Training R-Squared:', linreg.score(X_train, y_train))\n",
    "print('Test R-Squared:', linreg.score(X_test, y_test))\n",
    "baseline_rmse = mean_squared_error(y_train, y_pred_baseline, squared=False)\n",
    "baseline_rmse"
   ],
   "outputs": [
    {
     "output_type": "stream",
     "name": "stdout",
     "text": [
      "Training R-Squared: 0.3465711193199502\n",
      "Test R-Squared: 0.3745636833914624\n"
     ]
    },
    {
     "output_type": "execute_result",
     "data": {
      "text/plain": [
       "487.72982743993435"
      ]
     },
     "metadata": {},
     "execution_count": 24
    }
   ],
   "metadata": {}
  },
  {
   "cell_type": "code",
   "execution_count": 25,
   "source": [
    "# # Get the cross validated scores for our baseline model\n",
    "# baseline_cv = cross_val_score(linreg, X_train, y_train, scoring=\"neg_root_mean_squared_error\")\n",
    "\n",
    "# # Display the average of the cross-validated scores\n",
    "# baseline_cv_rmse = -(baseline_cv.mean())\n",
    "# baseline_cv_rmse"
   ],
   "outputs": [],
   "metadata": {}
  },
  {
   "cell_type": "markdown",
   "source": [
    "# model with OHE and Standard Scaler in a pipeline"
   ],
   "metadata": {}
  },
  {
   "cell_type": "code",
   "execution_count": 26,
   "source": [
    "#Split into test and train X and Y\n",
    "X = df_2_preprocessed.drop(columns=['TOTAL_VISITS'])\n",
    "y = df_2_preprocessed['TOTAL_VISITS']\n",
    "X_train, X_test, y_train, y_test = train_test_split(X, y, test_size=0.25, random_state=42)\n",
    "\n",
    "#column transformer - this sets up simmilar to pipeline (scaler and transformer)\n",
    "\n",
    "cat = ['IS_HOLIDAY', 'day_of_week_num', 'Month']\n",
    "non_cat = ['M_TEMPAVERAGE_F', 'M_PRECIP_INCHES', 'T_PRCP', 'T_TAVG',]\n",
    "\n",
    "Transformer = ColumnTransformer([\n",
    "\t('ohe', OneHotEncoder(), cat),\n",
    "\t('scaler', StandardScaler(), non_cat),\n",
    "\t], remainder ='passthrough')\n",
    "\n",
    "\n",
    "LinRegPipe = Pipeline([('trans', Transformer),\n",
    "                ('linreg', LinearRegression())])\n",
    "\n",
    "LinRegPipe.fit(X_train, y_train)\n",
    "\n",
    "X_test.isna().sum()\n",
    "\n",
    "# Generate predictions using baseline_model and X_train\n",
    "y_pred_LinRegPipe = LinRegPipe.predict(X_train)\n",
    "y_pred_linRegPipeTest = LinRegPipe.predict(X_test)\n",
    "print('Training R-Squared:', LinRegPipe.score(X_train, y_train))\n",
    "print('Test R-Squared:', LinRegPipe.score(X_test, y_test))\n",
    "LinRegPipe_rmse = mean_squared_error(y_train, y_pred_baseline, squared=False)\n",
    "LinRegPipe_rmse"
   ],
   "outputs": [
    {
     "output_type": "stream",
     "name": "stdout",
     "text": [
      "Training R-Squared: 0.42442276292459025\n",
      "Test R-Squared: 0.38566072485574876\n"
     ]
    },
    {
     "output_type": "execute_result",
     "data": {
      "text/plain": [
       "487.72982743993435"
      ]
     },
     "metadata": {},
     "execution_count": 26
    }
   ],
   "metadata": {}
  },
  {
   "cell_type": "code",
   "execution_count": null,
   "source": [],
   "outputs": [],
   "metadata": {}
  },
  {
   "cell_type": "code",
   "execution_count": 27,
   "source": [
    "plt.figure(figsize=(4, 4), dpi=100)\n",
    "plt.xlabel(\"VISITS\")\n",
    "plt.ylabel(\"Predicted VISITS\")\n",
    "# plt.xlim(0, 60)\n",
    "# plt.ylim(0, 60)\n",
    "plt.scatter(y_train, y_pred_LinRegPipe, lw=1, color=\"r\", label=\"train data\")\n",
    "plt.scatter(y_test, y_pred_linRegPipeTest, lw=1, color=\"b\", label=\"test data\")\n",
    "plt.legend()\n",
    "plt.show()"
   ],
   "outputs": [
    {
     "output_type": "display_data",
     "data": {
      "text/plain": [
       "<Figure size 400x400 with 1 Axes>"
      ],
      "image/png": "[encoded data removed]"
     },
     "metadata": {
      "needs_background": "light"
     }
    }
   ],
   "metadata": {}
  },
  {
   "cell_type": "markdown",
   "source": [
    "## Tree Regressor"
   ],
   "metadata": {}
  },
  {
   "cell_type": "code",
   "execution_count": 28,
   "source": [
    "#Split into test and train X and Y\n",
    "X = df_2_preprocessed.drop(columns=['TOTAL_VISITS'])\n",
    "y = df_2_preprocessed['TOTAL_VISITS']\n",
    "X_train, X_test, y_train, y_test = train_test_split(X, y, test_size=0.25, random_state=42)\n",
    "\n",
    "#column transformer - this sets up simmilar to pipeline (scaler and transformer)\n",
    "\n",
    "cat = ['IS_HOLIDAY', 'day_of_week_num', 'Month']\n",
    "non_cat = ['M_TEMPAVERAGE_F', 'M_PRECIP_INCHES', 'T_PRCP', 'T_TAVG',]\n",
    "\n",
    "Transformer = ColumnTransformer([\n",
    "\t('ohe', OneHotEncoder(), cat),\n",
    "\t# ('scaler', StandardScaler(), non_cat), #no need to scale on Trees\n",
    "\t], remainder ='passthrough')\n",
    "\n",
    "\n",
    "TreeRegPipe = Pipeline([('trans', Transformer),\n",
    "                        ('treereg', DecisionTreeRegressor())])\n",
    "\n",
    "TreeRegPipe.fit(X_train, y_train)\n",
    "\n",
    "y_pred_tree = TreeRegPipe.predict(X_train)\n",
    "print('Training R-Squared:', TreeRegPipe.score(X_train, y_train))\n",
    "print('Test R-Squared:', TreeRegPipe.score(X_test, y_test))\n",
    "TreeRegPipe_rmse = mean_squared_error(y_train, y_pred_tree, squared=False)\n",
    "TreeRegPipe_rmse\n",
    "\n"
   ],
   "outputs": [
    {
     "output_type": "stream",
     "name": "stdout",
     "text": [
      "Training R-Squared: 1.0\n",
      "Test R-Squared: -0.8051569383939223\n"
     ]
    },
    {
     "output_type": "execute_result",
     "data": {
      "text/plain": [
       "0.0"
      ]
     },
     "metadata": {},
     "execution_count": 28
    }
   ],
   "metadata": {}
  },
  {
   "cell_type": "markdown",
   "source": [
    "# ##Decision tree is probably overfitting up there, let's do a grid search: "
   ],
   "metadata": {}
  },
  {
   "cell_type": "code",
   "execution_count": 29,
   "source": [
    "#pipeline_2:\n",
    "\n",
    "X = df_2_preprocessed.drop(columns=['TOTAL_VISITS'])\n",
    "y = df_2_preprocessed['TOTAL_VISITS']\n",
    "X_train, X_test, y_train, y_test = train_test_split(X, y, test_size=0.25, random_state=42)\n",
    "\n",
    "# Pipeline first step: Transformer\n",
    "\n",
    "cat = ['IS_HOLIDAY', 'day_of_week_num', 'Month']\n",
    "non_cat = ['M_TEMPAVERAGE_F', 'M_PRECIP_INCHES', 'T_PRCP', 'T_TAVG',]\n",
    "\n",
    "Transformer = ColumnTransformer([\n",
    "\t('ohe', OneHotEncoder(), cat),\n",
    "\t# ('scaler', StandardScaler(), non_cat), #no need to scale on Trees\n",
    "\t], remainder ='passthrough')\n",
    "\n",
    "#Pipeline second Step: treeregressor\n",
    "dt_clf2 = DecisionTreeRegressor(random_state = 42)\n",
    "\n",
    "#pipeline\n",
    "pipeline_2 = Pipeline([('transformer', Transformer),\n",
    "\t\t\t\t\t\t('dtr', dt_clf2)])\n",
    "\n",
    "#set up grid search paramater grid\n",
    "dt_param_grid = {\n",
    "    'dtr__min_samples_split': [2, 4, 6, 8],\n",
    "    'dtr__max_depth': [None, 2, 3, 4, 5, 6]\n",
    "}\n",
    "\n",
    "#set up gridsearch:\n",
    "gridsearch = GridSearchCV(estimator=pipeline_2,\n",
    "\t\t\t\t\t\t  param_grid=dt_param_grid,\n",
    "\t\t\t\t\t\t  cv=5)\n",
    "\n",
    "\n",
    "#fit gridsearch\n",
    "gridsearch.fit(X_train, y_train)\n",
    "\n",
    "# Print the accuracy on test set\n",
    "gridsearch.score(X_test, y_test)\n",
    "\n",
    "gridsearch_opt_tree = gridsearch.predict(X_train)\n",
    "print('Training R-Squared:', gridsearch.score(X_train, y_train))\n",
    "print('Test R-Squared:', gridsearch.score(X_test, y_test))\n",
    "print(\"Best Parameter Combination Found During Grid Search:\")\n",
    "print(gridsearch.best_params_)\n",
    "opt_tree_rmse = mean_squared_error(y_train, gridsearch_opt_tree, squared=False)\n",
    "opt_tree_rmse"
   ],
   "outputs": [
    {
     "output_type": "stream",
     "name": "stdout",
     "text": [
      "Training R-Squared: 0.3681781678395988\n",
      "Test R-Squared: -0.0371160595913409\n",
      "Best Parameter Combination Found During Grid Search:\n",
      "{'dtr__max_depth': 3, 'dtr__min_samples_split': 2}\n"
     ]
    },
    {
     "output_type": "execute_result",
     "data": {
      "text/plain": [
       "479.59811485165744"
      ]
     },
     "metadata": {},
     "execution_count": 29
    }
   ],
   "metadata": {}
  },
  {
   "cell_type": "markdown",
   "source": [
    "## Wanna try Random Forests? "
   ],
   "metadata": {}
  },
  {
   "cell_type": "code",
   "execution_count": 30,
   "source": [
    "#pipeline_3:\n",
    "from sklearn.ensemble import RandomForestRegressor\n",
    "\n",
    "X = df_2_preprocessed.drop(columns=['TOTAL_VISITS'])\n",
    "y = df_2_preprocessed['TOTAL_VISITS']\n",
    "X_train, X_test, y_train, y_test = train_test_split(X, y, test_size=0.25, random_state=42)\n",
    "\n",
    "# Pipeline first step: Transformer\n",
    "\n",
    "cat = ['IS_HOLIDAY', 'day_of_week_num', 'Month']\n",
    "non_cat = ['M_TEMPAVERAGE_F', 'M_PRECIP_INCHES', 'T_PRCP', 'T_TAVG',]\n",
    "\n",
    "Transformer = ColumnTransformer([\n",
    "\t('ohe', OneHotEncoder(), cat),\n",
    "\t# ('scaler', StandardScaler(), non_cat), #no need to scale on Trees\n",
    "\t], remainder ='passthrough')\n",
    "\n",
    "#Pipeline second Step: treeregressor\n",
    "rfr = RandomForestRegressor(random_state = 42)\n",
    "\n",
    "#pipeline\n",
    "pipeline_3 = Pipeline([('transformer', Transformer),\n",
    "\t\t\t\t\t\t('dtr', rfr)])\n",
    "\n",
    "#set up grid search paramater grid\n",
    "rfr_param_grid = {\n",
    "    'dtr__n_estimators': [2, 4, 6, 8, 10],\n",
    "    'dtr__max_depth': [None, 2, 3, 4, 5, 6, 8, 10]\n",
    "}\n",
    "\n",
    "#set up gridsearch:\n",
    "gridsearch2 = GridSearchCV(estimator=pipeline_3,\n",
    "\t\t\t\t\t\t  param_grid=rfr_param_grid,\n",
    "\t\t\t\t\t\t  cv=5)\n",
    "\n",
    "\n",
    "#fit gridsearch\n",
    "gridsearch2.fit(X_train, y_train)\n",
    "\n",
    "# Print the accuracy on test set\n",
    "gridsearch2.score(X_test, y_test)\n",
    "\n",
    "gridsearch2_opt_forest = gridsearch2.predict(X_train)\n",
    "print('Training R-Squared:', gridsearch2.score(X_train, y_train))\n",
    "print('Test R-Squared:', gridsearch2.score(X_test, y_test))\n",
    "print(\"Best Parameter Combination Found During Grid Search:\")\n",
    "print(gridsearch2.best_params_)\n",
    "opt_tree_rmse = mean_squared_error(y_train, gridsearch2_opt_forest, squared=False)\n",
    "opt_tree_rmse"
   ],
   "outputs": [
    {
     "output_type": "stream",
     "name": "stdout",
     "text": [
      "Training R-Squared: 0.6894057804309277\n",
      "Test R-Squared: 0.28902326358559216\n",
      "Best Parameter Combination Found During Grid Search:\n",
      "{'dtr__max_depth': 6, 'dtr__n_estimators': 10}\n"
     ]
    },
    {
     "output_type": "execute_result",
     "data": {
      "text/plain": [
       "336.2612611791891"
      ]
     },
     "metadata": {},
     "execution_count": 30
    }
   ],
   "metadata": {}
  },
  {
   "cell_type": "markdown",
   "source": [
    "For this dataset, forests are performing better than trees"
   ],
   "metadata": {}
  },
  {
   "cell_type": "code",
   "execution_count": 31,
   "source": [
    "y_pred = gridsearch2.predict(X_test)\n",
    "\n",
    "df = pd.DataFrame({'Real Values':y_test, 'Predicted Values':y_pred})\n",
    "df"
   ],
   "outputs": [
    {
     "output_type": "execute_result",
     "data": {
      "text/plain": [
       "            Real Values  Predicted Values\n",
       "Date                                     \n",
       "2016-02-28          665        916.236401\n",
       "2016-03-10          390        493.567302\n",
       "2016-01-29          641       1347.303039\n",
       "2019-03-27          290        723.347248\n",
       "2016-03-24          658        614.529276\n",
       "...                 ...               ...\n",
       "2016-04-16          757        752.324474\n",
       "2019-12-24          745       1028.636086\n",
       "2018-12-31         1072        983.331496\n",
       "2018-04-21          193        667.139355\n",
       "2017-01-28         1222       1336.443942\n",
       "\n",
       "[117 rows x 2 columns]"
      ],
      "text/html": [
       "<div>\n",
       "<style scoped>\n",
       "    .dataframe tbody tr th:only-of-type {\n",
       "        vertical-align: middle;\n",
       "    }\n",
       "\n",
       "    .dataframe tbody tr th {\n",
       "        vertical-align: top;\n",
       "    }\n",
       "\n",
       "    .dataframe thead th {\n",
       "        text-align: right;\n",
       "    }\n",
       "</style>\n",
       "<table border=\"1\" class=\"dataframe\">\n",
       "  <thead>\n",
       "    <tr style=\"text-align: right;\">\n",
       "      <th></th>\n",
       "      <th>Real Values</th>\n",
       "      <th>Predicted Values</th>\n",
       "    </tr>\n",
       "    <tr>\n",
       "      <th>Date</th>\n",
       "      <th></th>\n",
       "      <th></th>\n",
       "    </tr>\n",
       "  </thead>\n",
       "  <tbody>\n",
       "    <tr>\n",
       "      <th>2016-02-28</th>\n",
       "      <td>665</td>\n",
       "      <td>916.236401</td>\n",
       "    </tr>\n",
       "    <tr>\n",
       "      <th>2016-03-10</th>\n",
       "      <td>390</td>\n",
       "      <td>493.567302</td>\n",
       "    </tr>\n",
       "    <tr>\n",
       "      <th>2016-01-29</th>\n",
       "      <td>641</td>\n",
       "      <td>1347.303039</td>\n",
       "    </tr>\n",
       "    <tr>\n",
       "      <th>2019-03-27</th>\n",
       "      <td>290</td>\n",
       "      <td>723.347248</td>\n",
       "    </tr>\n",
       "    <tr>\n",
       "      <th>2016-03-24</th>\n",
       "      <td>658</td>\n",
       "      <td>614.529276</td>\n",
       "    </tr>\n",
       "    <tr>\n",
       "      <th>...</th>\n",
       "      <td>...</td>\n",
       "      <td>...</td>\n",
       "    </tr>\n",
       "    <tr>\n",
       "      <th>2016-04-16</th>\n",
       "      <td>757</td>\n",
       "      <td>752.324474</td>\n",
       "    </tr>\n",
       "    <tr>\n",
       "      <th>2019-12-24</th>\n",
       "      <td>745</td>\n",
       "      <td>1028.636086</td>\n",
       "    </tr>\n",
       "    <tr>\n",
       "      <th>2018-12-31</th>\n",
       "      <td>1072</td>\n",
       "      <td>983.331496</td>\n",
       "    </tr>\n",
       "    <tr>\n",
       "      <th>2018-04-21</th>\n",
       "      <td>193</td>\n",
       "      <td>667.139355</td>\n",
       "    </tr>\n",
       "    <tr>\n",
       "      <th>2017-01-28</th>\n",
       "      <td>1222</td>\n",
       "      <td>1336.443942</td>\n",
       "    </tr>\n",
       "  </tbody>\n",
       "</table>\n",
       "<p>117 rows × 2 columns</p>\n",
       "</div>"
      ]
     },
     "metadata": {},
     "execution_count": 31
    }
   ],
   "metadata": {}
  },
  {
   "cell_type": "markdown",
   "source": [
    "Gradient Boosting: "
   ],
   "metadata": {}
  },
  {
   "cell_type": "code",
   "execution_count": 32,
   "source": [
    "from sklearn.ensemble import GradientBoostingRegressor\n",
    "\n",
    "#pipeline_4:\n",
    "\n",
    "X = df_2_preprocessed.drop(columns=['TOTAL_VISITS'])\n",
    "y = df_2_preprocessed['TOTAL_VISITS']\n",
    "X_train, X_test, y_train, y_test = train_test_split(X, y, test_size=0.25, random_state=42)\n",
    "\n",
    "# Pipeline first step: Transformer\n",
    "\n",
    "cat = ['IS_HOLIDAY', 'day_of_week_num', 'Month']\n",
    "non_cat = ['M_TEMPAVERAGE_F', 'M_PRECIP_INCHES', 'T_PRCP', 'T_TAVG',]\n",
    "\n",
    "Transformer = ColumnTransformer([\n",
    "\t('ohe', OneHotEncoder(), cat),\n",
    "\t# ('scaler', StandardScaler(), non_cat), #no need to scale on Trees\n",
    "\t], remainder ='passthrough')\n",
    "\n",
    "#Pipeline second Step: treeregressor\n",
    "GBR = GradientBoostingRegressor(random_state = 42)\n",
    "\n",
    "#pipeline\n",
    "pipeline_4 = Pipeline([('transformer', Transformer),\n",
    "\t\t\t\t\t\t('gbr', GBR)])\n",
    "\n",
    "#set up grid search paramater grid\n",
    "gbr_param_grid = {\n",
    "    'gbr__n_estimators': [50, 100, 200, 300],\n",
    "    'gbr__criterion': ['friedman_mse', 'mse', 'mae']\n",
    "}\n",
    "\n",
    "#set up gridsearch:\n",
    "gridsearch3 = GridSearchCV(estimator=pipeline_4,\n",
    "\t\t\t\t\t\t  param_grid=gbr_param_grid,\n",
    "\t\t\t\t\t\t  cv=5)\n",
    "\n",
    "\n",
    "#fit gridsearch\n",
    "gridsearch3.fit(X_train, y_train)\n",
    "\n",
    "# Print the accuracy on test set\n",
    "gridsearch3.score(X_test, y_test)\n",
    "\n",
    "gridsearch3_opt = gridsearch3.predict(X_train)\n",
    "print('Training R-Squared:', gridsearch3.score(X_train, y_train))\n",
    "print('Test R-Squared:', gridsearch3.score(X_test, y_test))\n",
    "print(\"Best Parameter Combination Found During Grid Search:\")\n",
    "print(gridsearch3.best_params_)\n",
    "opt_gbr_rmse = mean_squared_error(y_train, gridsearch3_opt, squared=False)\n",
    "opt_gbr_rmse\n"
   ],
   "outputs": [
    {
     "output_type": "stream",
     "name": "stdout",
     "text": [
      "Training R-Squared: 0.7410915939424328\n",
      "Test R-Squared: 0.2611300775967492\n",
      "Best Parameter Combination Found During Grid Search:\n",
      "{'gbr__criterion': 'mse', 'gbr__n_estimators': 100}\n"
     ]
    },
    {
     "output_type": "execute_result",
     "data": {
      "text/plain": [
       "307.0104997490633"
      ]
     },
     "metadata": {},
     "execution_count": 32
    }
   ],
   "metadata": {}
  },
  {
   "cell_type": "code",
   "execution_count": 33,
   "source": [
    "from sklearn.ensemble import GradientBoostingRegressor\n",
    "\n",
    "#pipeline_booster:\n",
    "\n",
    "X_boost = df_2_preprocessed.drop(columns=['TOTAL_VISITS'])\n",
    "y_boost = df_2_preprocessed['TOTAL_VISITS']\n",
    "X_train_boost, X_test_boost, y_train_boost, y_test_boost = train_test_split(X_boost, y_boost, test_size=0.25, random_state=42)\n",
    "\n",
    "# Pipeline first step: Transformer\n",
    "\n",
    "cat = ['IS_HOLIDAY', 'day_of_week_num', 'Month']\n",
    "non_cat = ['M_TEMPAVERAGE_F', 'M_PRECIP_INCHES', 'T_PRCP', 'T_TAVG',]\n",
    "\n",
    "Transformer = ColumnTransformer([\n",
    "\t('ohe', OneHotEncoder(), cat),\n",
    "\t# ('scaler', StandardScaler(), non_cat), #no need to scale on Trees\n",
    "\t], remainder ='passthrough')\n",
    "\n",
    "#Pipeline second Step: treeregressor\n",
    "GBR = GradientBoostingRegressor(criterion= 'friedman_mse', n_estimators=100, random_state = 42)\n",
    "\n",
    "#pipeline\n",
    "pipeline_boost = Pipeline([('transformer', Transformer),\n",
    "\t\t\t\t\t\t('gbr', GBR)])\n",
    "\n",
    "pipeline_boost.fit(X_train_boost, y_train_boost)\n",
    "\n",
    "# Print the accuracy on test set\n",
    "print(pipeline_boost.score(X_test_boost, y_test_boost))\n",
    "\n",
    "boost_pred = pipeline_boost.predict(X_train_boost)\n",
    "print('Training R-Squared:', pipeline_boost.score(X_train_boost, y_train_boost))\n",
    "print('Test R-Squared:', pipeline_boost.score(X_test_boost, y_test_boost))\n",
    "\n",
    "boost_rmse = mean_squared_error(y_train_boost, gridsearch3_opt, squared=False)\n",
    "boost_rmse"
   ],
   "outputs": [
    {
     "output_type": "stream",
     "name": "stdout",
     "text": [
      "0.2611604753141612\n",
      "Training R-Squared: 0.7410915939424328\n",
      "Test R-Squared: 0.2611604753141612\n"
     ]
    },
    {
     "output_type": "execute_result",
     "data": {
      "text/plain": [
       "307.0104997490633"
      ]
     },
     "metadata": {},
     "execution_count": 33
    }
   ],
   "metadata": {}
  },
  {
   "cell_type": "code",
   "execution_count": 34,
   "source": [
    "y_pred_boost = pipeline_boost.predict(X_test_boost)\n",
    "\n",
    "df = pd.DataFrame({'Real Visits':y_test_boost, 'Predicted Visits':y_pred_boost, 'Difference': abs(y_test_boost - y_pred_boost)})\n",
    "df"
   ],
   "outputs": [
    {
     "output_type": "execute_result",
     "data": {
      "text/plain": [
       "            Real Visits  Predicted Visits   Difference\n",
       "Date                                                  \n",
       "2016-02-28          665       1153.496272   488.496272\n",
       "2016-03-10          390        257.571756   132.428244\n",
       "2016-01-29          641       1703.931372  1062.931372\n",
       "2019-03-27          290        419.610431   129.610431\n",
       "2016-03-24          658        511.945349   146.054651\n",
       "...                 ...               ...          ...\n",
       "2016-04-16          757        731.005617    25.994383\n",
       "2019-12-24          745        863.657424   118.657424\n",
       "2018-12-31         1072       1095.863240    23.863240\n",
       "2018-04-21          193        548.711333   355.711333\n",
       "2017-01-28         1222       2068.447941   846.447941\n",
       "\n",
       "[117 rows x 3 columns]"
      ],
      "text/html": [
       "<div>\n",
       "<style scoped>\n",
       "    .dataframe tbody tr th:only-of-type {\n",
       "        vertical-align: middle;\n",
       "    }\n",
       "\n",
       "    .dataframe tbody tr th {\n",
       "        vertical-align: top;\n",
       "    }\n",
       "\n",
       "    .dataframe thead th {\n",
       "        text-align: right;\n",
       "    }\n",
       "</style>\n",
       "<table border=\"1\" class=\"dataframe\">\n",
       "  <thead>\n",
       "    <tr style=\"text-align: right;\">\n",
       "      <th></th>\n",
       "      <th>Real Visits</th>\n",
       "      <th>Predicted Visits</th>\n",
       "      <th>Difference</th>\n",
       "    </tr>\n",
       "    <tr>\n",
       "      <th>Date</th>\n",
       "      <th></th>\n",
       "      <th></th>\n",
       "      <th></th>\n",
       "    </tr>\n",
       "  </thead>\n",
       "  <tbody>\n",
       "    <tr>\n",
       "      <th>2016-02-28</th>\n",
       "      <td>665</td>\n",
       "      <td>1153.496272</td>\n",
       "      <td>488.496272</td>\n",
       "    </tr>\n",
       "    <tr>\n",
       "      <th>2016-03-10</th>\n",
       "      <td>390</td>\n",
       "      <td>257.571756</td>\n",
       "      <td>132.428244</td>\n",
       "    </tr>\n",
       "    <tr>\n",
       "      <th>2016-01-29</th>\n",
       "      <td>641</td>\n",
       "      <td>1703.931372</td>\n",
       "      <td>1062.931372</td>\n",
       "    </tr>\n",
       "    <tr>\n",
       "      <th>2019-03-27</th>\n",
       "      <td>290</td>\n",
       "      <td>419.610431</td>\n",
       "      <td>129.610431</td>\n",
       "    </tr>\n",
       "    <tr>\n",
       "      <th>2016-03-24</th>\n",
       "      <td>658</td>\n",
       "      <td>511.945349</td>\n",
       "      <td>146.054651</td>\n",
       "    </tr>\n",
       "    <tr>\n",
       "      <th>...</th>\n",
       "      <td>...</td>\n",
       "      <td>...</td>\n",
       "      <td>...</td>\n",
       "    </tr>\n",
       "    <tr>\n",
       "      <th>2016-04-16</th>\n",
       "      <td>757</td>\n",
       "      <td>731.005617</td>\n",
       "      <td>25.994383</td>\n",
       "    </tr>\n",
       "    <tr>\n",
       "      <th>2019-12-24</th>\n",
       "      <td>745</td>\n",
       "      <td>863.657424</td>\n",
       "      <td>118.657424</td>\n",
       "    </tr>\n",
       "    <tr>\n",
       "      <th>2018-12-31</th>\n",
       "      <td>1072</td>\n",
       "      <td>1095.863240</td>\n",
       "      <td>23.863240</td>\n",
       "    </tr>\n",
       "    <tr>\n",
       "      <th>2018-04-21</th>\n",
       "      <td>193</td>\n",
       "      <td>548.711333</td>\n",
       "      <td>355.711333</td>\n",
       "    </tr>\n",
       "    <tr>\n",
       "      <th>2017-01-28</th>\n",
       "      <td>1222</td>\n",
       "      <td>2068.447941</td>\n",
       "      <td>846.447941</td>\n",
       "    </tr>\n",
       "  </tbody>\n",
       "</table>\n",
       "<p>117 rows × 3 columns</p>\n",
       "</div>"
      ]
     },
     "metadata": {},
     "execution_count": 34
    }
   ],
   "metadata": {}
  },
  {
   "cell_type": "code",
   "execution_count": 35,
   "source": [
    "import xgboost as xg\n",
    "\n",
    "from sklearn.ensemble import GradientBoostingRegressor\n",
    "\n",
    "#pipeline_4:\n",
    "\n",
    "X = df_2_preprocessed.drop(columns=['TOTAL_VISITS'])\n",
    "y = df_2_preprocessed['TOTAL_VISITS']\n",
    "X_train, X_test, y_train, y_test = train_test_split(X, y, test_size=0.25, random_state=42)\n",
    "\n",
    "# Pipeline first step: Transformer\n",
    "\n",
    "cat = ['IS_HOLIDAY', 'day_of_week_num', 'Month']\n",
    "non_cat = ['M_TEMPAVERAGE_F', 'M_PRECIP_INCHES', 'T_PRCP', 'T_TAVG',]\n",
    "\n",
    "Transformer = ColumnTransformer([\n",
    "\t('ohe', OneHotEncoder(), cat),\n",
    "\t# ('scaler', StandardScaler(), non_cat), #no need to scale on Trees\n",
    "\t], remainder ='passthrough')\n",
    "\n",
    "#Pipeline second Step: treeregressor\n",
    "xgb_r = xg.XGBRegressor(objective ='reg:squarederror', n_estimators = 10, seed = 123)\n",
    "\n",
    "#pipeline\n",
    "xboostPipe = Pipeline([('transformer', Transformer),\n",
    "\t\t\t\t\t\t('xgb_r', xgb_r)])\n",
    "\n",
    "# #set up grid search paramater grid\n",
    "# gbr_param_grid = {\n",
    "#     'gbr__n_estimators': [50, 100, 200, 300],\n",
    "#     'gbr__criterion': ['friedman_mse', 'mse', 'mae']\n",
    "# }\n",
    "\n",
    "# #set up gridsearch:\n",
    "# gridsearch3 = GridSearchCV(estimator=pipeline_4,\n",
    "# \t\t\t\t\t\t  param_grid=gbr_param_grid,\n",
    "# \t\t\t\t\t\t  cv=5)\n",
    "\n",
    "\n",
    "#fit gridsearch\n",
    "xboostPipe.fit(X_train, y_train)\n",
    "\n",
    "# Print the accuracy on test set\n",
    "xboostPipe.score(X_test, y_test)\n",
    "\n",
    "xboost_pred = xboostPipe.predict(X_train)\n",
    "print('Training R-Squared:', xboostPipe.score(X_train, y_train))\n",
    "print('Test R-Squared:', xboostPipe.score(X_test, y_test))\n",
    "# print(\"Best Parameter Combination Found During Grid Search:\")\n",
    "# print(gridsearch3.best_params_)\n",
    "xboost_rmse = mean_squared_error(y_train, xboost_pred, squared=False)\n",
    "xboost_rmse\n"
   ],
   "outputs": [
    {
     "output_type": "stream",
     "name": "stdout",
     "text": [
      "Training R-Squared: 0.8188402586230341\n",
      "Test R-Squared: 0.24613644885677743\n"
     ]
    },
    {
     "output_type": "execute_result",
     "data": {
      "text/plain": [
       "256.8094490209982"
      ]
     },
     "metadata": {},
     "execution_count": 35
    }
   ],
   "metadata": {}
  },
  {
   "cell_type": "code",
   "execution_count": 36,
   "source": [
    "y_pred = gridsearch2.predict(X_test)\n",
    "\n",
    "df = pd.DataFrame({'Real Values':y_test, 'Predicted Values':y_pred, 'Difference': abs(y_test - y_pred)})\n",
    "df"
   ],
   "outputs": [
    {
     "output_type": "execute_result",
     "data": {
      "text/plain": [
       "            Real Values  Predicted Values  Difference\n",
       "Date                                                 \n",
       "2016-02-28          665        916.236401  251.236401\n",
       "2016-03-10          390        493.567302  103.567302\n",
       "2016-01-29          641       1347.303039  706.303039\n",
       "2019-03-27          290        723.347248  433.347248\n",
       "2016-03-24          658        614.529276   43.470724\n",
       "...                 ...               ...         ...\n",
       "2016-04-16          757        752.324474    4.675526\n",
       "2019-12-24          745       1028.636086  283.636086\n",
       "2018-12-31         1072        983.331496   88.668504\n",
       "2018-04-21          193        667.139355  474.139355\n",
       "2017-01-28         1222       1336.443942  114.443942\n",
       "\n",
       "[117 rows x 3 columns]"
      ],
      "text/html": [
       "<div>\n",
       "<style scoped>\n",
       "    .dataframe tbody tr th:only-of-type {\n",
       "        vertical-align: middle;\n",
       "    }\n",
       "\n",
       "    .dataframe tbody tr th {\n",
       "        vertical-align: top;\n",
       "    }\n",
       "\n",
       "    .dataframe thead th {\n",
       "        text-align: right;\n",
       "    }\n",
       "</style>\n",
       "<table border=\"1\" class=\"dataframe\">\n",
       "  <thead>\n",
       "    <tr style=\"text-align: right;\">\n",
       "      <th></th>\n",
       "      <th>Real Values</th>\n",
       "      <th>Predicted Values</th>\n",
       "      <th>Difference</th>\n",
       "    </tr>\n",
       "    <tr>\n",
       "      <th>Date</th>\n",
       "      <th></th>\n",
       "      <th></th>\n",
       "      <th></th>\n",
       "    </tr>\n",
       "  </thead>\n",
       "  <tbody>\n",
       "    <tr>\n",
       "      <th>2016-02-28</th>\n",
       "      <td>665</td>\n",
       "      <td>916.236401</td>\n",
       "      <td>251.236401</td>\n",
       "    </tr>\n",
       "    <tr>\n",
       "      <th>2016-03-10</th>\n",
       "      <td>390</td>\n",
       "      <td>493.567302</td>\n",
       "      <td>103.567302</td>\n",
       "    </tr>\n",
       "    <tr>\n",
       "      <th>2016-01-29</th>\n",
       "      <td>641</td>\n",
       "      <td>1347.303039</td>\n",
       "      <td>706.303039</td>\n",
       "    </tr>\n",
       "    <tr>\n",
       "      <th>2019-03-27</th>\n",
       "      <td>290</td>\n",
       "      <td>723.347248</td>\n",
       "      <td>433.347248</td>\n",
       "    </tr>\n",
       "    <tr>\n",
       "      <th>2016-03-24</th>\n",
       "      <td>658</td>\n",
       "      <td>614.529276</td>\n",
       "      <td>43.470724</td>\n",
       "    </tr>\n",
       "    <tr>\n",
       "      <th>...</th>\n",
       "      <td>...</td>\n",
       "      <td>...</td>\n",
       "      <td>...</td>\n",
       "    </tr>\n",
       "    <tr>\n",
       "      <th>2016-04-16</th>\n",
       "      <td>757</td>\n",
       "      <td>752.324474</td>\n",
       "      <td>4.675526</td>\n",
       "    </tr>\n",
       "    <tr>\n",
       "      <th>2019-12-24</th>\n",
       "      <td>745</td>\n",
       "      <td>1028.636086</td>\n",
       "      <td>283.636086</td>\n",
       "    </tr>\n",
       "    <tr>\n",
       "      <th>2018-12-31</th>\n",
       "      <td>1072</td>\n",
       "      <td>983.331496</td>\n",
       "      <td>88.668504</td>\n",
       "    </tr>\n",
       "    <tr>\n",
       "      <th>2018-04-21</th>\n",
       "      <td>193</td>\n",
       "      <td>667.139355</td>\n",
       "      <td>474.139355</td>\n",
       "    </tr>\n",
       "    <tr>\n",
       "      <th>2017-01-28</th>\n",
       "      <td>1222</td>\n",
       "      <td>1336.443942</td>\n",
       "      <td>114.443942</td>\n",
       "    </tr>\n",
       "  </tbody>\n",
       "</table>\n",
       "<p>117 rows × 3 columns</p>\n",
       "</div>"
      ]
     },
     "metadata": {},
     "execution_count": 36
    }
   ],
   "metadata": {}
  },
  {
   "cell_type": "code",
   "execution_count": null,
   "source": [],
   "outputs": [],
   "metadata": {}
  }
 ],
 "metadata": {
  "kernelspec": {
   "name": "python3",
   "display_name": "Python 3.8.5 64-bit ('learn-env': conda)"
  },
  "language_info": {
   "codemirror_mode": {
    "name": "ipython",
    "version": 3
   },
   "file_extension": ".py",
   "mimetype": "text/x-python",
   "name": "python",
   "nbconvert_exporter": "python",
   "pygments_lexer": "ipython3",
   "version": "3.8.5"
  },
  "interpreter": {
   "hash": "c15d3b161d9e31d3c14101c293414707f40e59d6cae0bbd6b708ca3d1e942f6f"
  }
 },
 "nbformat": 4,
 "nbformat_minor": 4
}